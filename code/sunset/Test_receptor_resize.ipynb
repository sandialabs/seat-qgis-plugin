{
 "cells": [
  {
   "cell_type": "code",
   "execution_count": 46,
   "metadata": {},
   "outputs": [],
   "source": [
    "from osgeo import gdal\n",
    "import numpy as np\n",
    "from netCDF4 import Dataset\n",
    "from scipy.interpolate import griddata\n",
    "import matplotlib.pyplot as plt\n",
    "import xarray as xr"
   ]
  },
  {
   "cell_type": "code",
   "execution_count": 47,
   "metadata": {},
   "outputs": [
    {
     "data": {
      "text/html": [
       "<div><svg style=\"position: absolute; width: 0; height: 0; overflow: hidden\">\n",
       "<defs>\n",
       "<symbol id=\"icon-database\" viewBox=\"0 0 32 32\">\n",
       "<path d=\"M16 0c-8.837 0-16 2.239-16 5v4c0 2.761 7.163 5 16 5s16-2.239 16-5v-4c0-2.761-7.163-5-16-5z\"></path>\n",
       "<path d=\"M16 17c-8.837 0-16-2.239-16-5v6c0 2.761 7.163 5 16 5s16-2.239 16-5v-6c0 2.761-7.163 5-16 5z\"></path>\n",
       "<path d=\"M16 26c-8.837 0-16-2.239-16-5v6c0 2.761 7.163 5 16 5s16-2.239 16-5v-6c0 2.761-7.163 5-16 5z\"></path>\n",
       "</symbol>\n",
       "<symbol id=\"icon-file-text2\" viewBox=\"0 0 32 32\">\n",
       "<path d=\"M28.681 7.159c-0.694-0.947-1.662-2.053-2.724-3.116s-2.169-2.030-3.116-2.724c-1.612-1.182-2.393-1.319-2.841-1.319h-15.5c-1.378 0-2.5 1.121-2.5 2.5v27c0 1.378 1.122 2.5 2.5 2.5h23c1.378 0 2.5-1.122 2.5-2.5v-19.5c0-0.448-0.137-1.23-1.319-2.841zM24.543 5.457c0.959 0.959 1.712 1.825 2.268 2.543h-4.811v-4.811c0.718 0.556 1.584 1.309 2.543 2.268zM28 29.5c0 0.271-0.229 0.5-0.5 0.5h-23c-0.271 0-0.5-0.229-0.5-0.5v-27c0-0.271 0.229-0.5 0.5-0.5 0 0 15.499-0 15.5 0v7c0 0.552 0.448 1 1 1h7v19.5z\"></path>\n",
       "<path d=\"M23 26h-14c-0.552 0-1-0.448-1-1s0.448-1 1-1h14c0.552 0 1 0.448 1 1s-0.448 1-1 1z\"></path>\n",
       "<path d=\"M23 22h-14c-0.552 0-1-0.448-1-1s0.448-1 1-1h14c0.552 0 1 0.448 1 1s-0.448 1-1 1z\"></path>\n",
       "<path d=\"M23 18h-14c-0.552 0-1-0.448-1-1s0.448-1 1-1h14c0.552 0 1 0.448 1 1s-0.448 1-1 1z\"></path>\n",
       "</symbol>\n",
       "</defs>\n",
       "</svg>\n",
       "<style>/* CSS stylesheet for displaying xarray objects in jupyterlab.\n",
       " *\n",
       " */\n",
       "\n",
       ":root {\n",
       "  --xr-font-color0: var(--jp-content-font-color0, rgba(0, 0, 0, 1));\n",
       "  --xr-font-color2: var(--jp-content-font-color2, rgba(0, 0, 0, 0.54));\n",
       "  --xr-font-color3: var(--jp-content-font-color3, rgba(0, 0, 0, 0.38));\n",
       "  --xr-border-color: var(--jp-border-color2, #e0e0e0);\n",
       "  --xr-disabled-color: var(--jp-layout-color3, #bdbdbd);\n",
       "  --xr-background-color: var(--jp-layout-color0, white);\n",
       "  --xr-background-color-row-even: var(--jp-layout-color1, white);\n",
       "  --xr-background-color-row-odd: var(--jp-layout-color2, #eeeeee);\n",
       "}\n",
       "\n",
       "html[theme=dark],\n",
       "body[data-theme=dark],\n",
       "body.vscode-dark {\n",
       "  --xr-font-color0: rgba(255, 255, 255, 1);\n",
       "  --xr-font-color2: rgba(255, 255, 255, 0.54);\n",
       "  --xr-font-color3: rgba(255, 255, 255, 0.38);\n",
       "  --xr-border-color: #1F1F1F;\n",
       "  --xr-disabled-color: #515151;\n",
       "  --xr-background-color: #111111;\n",
       "  --xr-background-color-row-even: #111111;\n",
       "  --xr-background-color-row-odd: #313131;\n",
       "}\n",
       "\n",
       ".xr-wrap {\n",
       "  display: block !important;\n",
       "  min-width: 300px;\n",
       "  max-width: 700px;\n",
       "}\n",
       "\n",
       ".xr-text-repr-fallback {\n",
       "  /* fallback to plain text repr when CSS is not injected (untrusted notebook) */\n",
       "  display: none;\n",
       "}\n",
       "\n",
       ".xr-header {\n",
       "  padding-top: 6px;\n",
       "  padding-bottom: 6px;\n",
       "  margin-bottom: 4px;\n",
       "  border-bottom: solid 1px var(--xr-border-color);\n",
       "}\n",
       "\n",
       ".xr-header > div,\n",
       ".xr-header > ul {\n",
       "  display: inline;\n",
       "  margin-top: 0;\n",
       "  margin-bottom: 0;\n",
       "}\n",
       "\n",
       ".xr-obj-type,\n",
       ".xr-array-name {\n",
       "  margin-left: 2px;\n",
       "  margin-right: 10px;\n",
       "}\n",
       "\n",
       ".xr-obj-type {\n",
       "  color: var(--xr-font-color2);\n",
       "}\n",
       "\n",
       ".xr-sections {\n",
       "  padding-left: 0 !important;\n",
       "  display: grid;\n",
       "  grid-template-columns: 150px auto auto 1fr 20px 20px;\n",
       "}\n",
       "\n",
       ".xr-section-item {\n",
       "  display: contents;\n",
       "}\n",
       "\n",
       ".xr-section-item input {\n",
       "  display: none;\n",
       "}\n",
       "\n",
       ".xr-section-item input + label {\n",
       "  color: var(--xr-disabled-color);\n",
       "}\n",
       "\n",
       ".xr-section-item input:enabled + label {\n",
       "  cursor: pointer;\n",
       "  color: var(--xr-font-color2);\n",
       "}\n",
       "\n",
       ".xr-section-item input:enabled + label:hover {\n",
       "  color: var(--xr-font-color0);\n",
       "}\n",
       "\n",
       ".xr-section-summary {\n",
       "  grid-column: 1;\n",
       "  color: var(--xr-font-color2);\n",
       "  font-weight: 500;\n",
       "}\n",
       "\n",
       ".xr-section-summary > span {\n",
       "  display: inline-block;\n",
       "  padding-left: 0.5em;\n",
       "}\n",
       "\n",
       ".xr-section-summary-in:disabled + label {\n",
       "  color: var(--xr-font-color2);\n",
       "}\n",
       "\n",
       ".xr-section-summary-in + label:before {\n",
       "  display: inline-block;\n",
       "  content: '►';\n",
       "  font-size: 11px;\n",
       "  width: 15px;\n",
       "  text-align: center;\n",
       "}\n",
       "\n",
       ".xr-section-summary-in:disabled + label:before {\n",
       "  color: var(--xr-disabled-color);\n",
       "}\n",
       "\n",
       ".xr-section-summary-in:checked + label:before {\n",
       "  content: '▼';\n",
       "}\n",
       "\n",
       ".xr-section-summary-in:checked + label > span {\n",
       "  display: none;\n",
       "}\n",
       "\n",
       ".xr-section-summary,\n",
       ".xr-section-inline-details {\n",
       "  padding-top: 4px;\n",
       "  padding-bottom: 4px;\n",
       "}\n",
       "\n",
       ".xr-section-inline-details {\n",
       "  grid-column: 2 / -1;\n",
       "}\n",
       "\n",
       ".xr-section-details {\n",
       "  display: none;\n",
       "  grid-column: 1 / -1;\n",
       "  margin-bottom: 5px;\n",
       "}\n",
       "\n",
       ".xr-section-summary-in:checked ~ .xr-section-details {\n",
       "  display: contents;\n",
       "}\n",
       "\n",
       ".xr-array-wrap {\n",
       "  grid-column: 1 / -1;\n",
       "  display: grid;\n",
       "  grid-template-columns: 20px auto;\n",
       "}\n",
       "\n",
       ".xr-array-wrap > label {\n",
       "  grid-column: 1;\n",
       "  vertical-align: top;\n",
       "}\n",
       "\n",
       ".xr-preview {\n",
       "  color: var(--xr-font-color3);\n",
       "}\n",
       "\n",
       ".xr-array-preview,\n",
       ".xr-array-data {\n",
       "  padding: 0 5px !important;\n",
       "  grid-column: 2;\n",
       "}\n",
       "\n",
       ".xr-array-data,\n",
       ".xr-array-in:checked ~ .xr-array-preview {\n",
       "  display: none;\n",
       "}\n",
       "\n",
       ".xr-array-in:checked ~ .xr-array-data,\n",
       ".xr-array-preview {\n",
       "  display: inline-block;\n",
       "}\n",
       "\n",
       ".xr-dim-list {\n",
       "  display: inline-block !important;\n",
       "  list-style: none;\n",
       "  padding: 0 !important;\n",
       "  margin: 0;\n",
       "}\n",
       "\n",
       ".xr-dim-list li {\n",
       "  display: inline-block;\n",
       "  padding: 0;\n",
       "  margin: 0;\n",
       "}\n",
       "\n",
       ".xr-dim-list:before {\n",
       "  content: '(';\n",
       "}\n",
       "\n",
       ".xr-dim-list:after {\n",
       "  content: ')';\n",
       "}\n",
       "\n",
       ".xr-dim-list li:not(:last-child):after {\n",
       "  content: ',';\n",
       "  padding-right: 5px;\n",
       "}\n",
       "\n",
       ".xr-has-index {\n",
       "  font-weight: bold;\n",
       "}\n",
       "\n",
       ".xr-var-list,\n",
       ".xr-var-item {\n",
       "  display: contents;\n",
       "}\n",
       "\n",
       ".xr-var-item > div,\n",
       ".xr-var-item label,\n",
       ".xr-var-item > .xr-var-name span {\n",
       "  background-color: var(--xr-background-color-row-even);\n",
       "  margin-bottom: 0;\n",
       "}\n",
       "\n",
       ".xr-var-item > .xr-var-name:hover span {\n",
       "  padding-right: 5px;\n",
       "}\n",
       "\n",
       ".xr-var-list > li:nth-child(odd) > div,\n",
       ".xr-var-list > li:nth-child(odd) > label,\n",
       ".xr-var-list > li:nth-child(odd) > .xr-var-name span {\n",
       "  background-color: var(--xr-background-color-row-odd);\n",
       "}\n",
       "\n",
       ".xr-var-name {\n",
       "  grid-column: 1;\n",
       "}\n",
       "\n",
       ".xr-var-dims {\n",
       "  grid-column: 2;\n",
       "}\n",
       "\n",
       ".xr-var-dtype {\n",
       "  grid-column: 3;\n",
       "  text-align: right;\n",
       "  color: var(--xr-font-color2);\n",
       "}\n",
       "\n",
       ".xr-var-preview {\n",
       "  grid-column: 4;\n",
       "}\n",
       "\n",
       ".xr-index-preview {\n",
       "  grid-column: 2 / 5;\n",
       "  color: var(--xr-font-color2);\n",
       "}\n",
       "\n",
       ".xr-var-name,\n",
       ".xr-var-dims,\n",
       ".xr-var-dtype,\n",
       ".xr-preview,\n",
       ".xr-attrs dt {\n",
       "  white-space: nowrap;\n",
       "  overflow: hidden;\n",
       "  text-overflow: ellipsis;\n",
       "  padding-right: 10px;\n",
       "}\n",
       "\n",
       ".xr-var-name:hover,\n",
       ".xr-var-dims:hover,\n",
       ".xr-var-dtype:hover,\n",
       ".xr-attrs dt:hover {\n",
       "  overflow: visible;\n",
       "  width: auto;\n",
       "  z-index: 1;\n",
       "}\n",
       "\n",
       ".xr-var-attrs,\n",
       ".xr-var-data,\n",
       ".xr-index-data {\n",
       "  display: none;\n",
       "  background-color: var(--xr-background-color) !important;\n",
       "  padding-bottom: 5px !important;\n",
       "}\n",
       "\n",
       ".xr-var-attrs-in:checked ~ .xr-var-attrs,\n",
       ".xr-var-data-in:checked ~ .xr-var-data,\n",
       ".xr-index-data-in:checked ~ .xr-index-data {\n",
       "  display: block;\n",
       "}\n",
       "\n",
       ".xr-var-data > table {\n",
       "  float: right;\n",
       "}\n",
       "\n",
       ".xr-var-name span,\n",
       ".xr-var-data,\n",
       ".xr-index-name div,\n",
       ".xr-index-data,\n",
       ".xr-attrs {\n",
       "  padding-left: 25px !important;\n",
       "}\n",
       "\n",
       ".xr-attrs,\n",
       ".xr-var-attrs,\n",
       ".xr-var-data,\n",
       ".xr-index-data {\n",
       "  grid-column: 1 / -1;\n",
       "}\n",
       "\n",
       "dl.xr-attrs {\n",
       "  padding: 0;\n",
       "  margin: 0;\n",
       "  display: grid;\n",
       "  grid-template-columns: 125px auto;\n",
       "}\n",
       "\n",
       ".xr-attrs dt,\n",
       ".xr-attrs dd {\n",
       "  padding: 0;\n",
       "  margin: 0;\n",
       "  float: left;\n",
       "  padding-right: 10px;\n",
       "  width: auto;\n",
       "}\n",
       "\n",
       ".xr-attrs dt {\n",
       "  font-weight: normal;\n",
       "  grid-column: 1;\n",
       "}\n",
       "\n",
       ".xr-attrs dt:hover span {\n",
       "  display: inline-block;\n",
       "  background: var(--xr-background-color);\n",
       "  padding-right: 10px;\n",
       "}\n",
       "\n",
       ".xr-attrs dd {\n",
       "  grid-column: 2;\n",
       "  white-space: pre-wrap;\n",
       "  word-break: break-all;\n",
       "}\n",
       "\n",
       ".xr-icon-database,\n",
       ".xr-icon-file-text2,\n",
       ".xr-no-icon {\n",
       "  display: inline-block;\n",
       "  vertical-align: middle;\n",
       "  width: 1em;\n",
       "  height: 1.5em !important;\n",
       "  stroke-width: 0;\n",
       "  stroke: currentColor;\n",
       "  fill: currentColor;\n",
       "}\n",
       "</style><pre class='xr-text-repr-fallback'>&lt;xarray.Dataset&gt;\n",
       "Dimensions:        (run_number: 23, M: 282, N: 192, time: 1, KMAXOUT: 6,\n",
       "                    MC: 282, NC: 192, KMAXOUT_RESTR: 5, LSTSCI: 2, LTUR: 2,\n",
       "                    SIG_INTF: 6, SIG_LYR: 5)\n",
       "Coordinates:\n",
       "  * KMAXOUT        (KMAXOUT) int32 0 1 2 3 4 5\n",
       "  * KMAXOUT_RESTR  (KMAXOUT_RESTR) int32 0 1 2 3 4\n",
       "  * SIG_INTF       (SIG_INTF) float32 0.0 -0.005 -0.05 -0.2 -0.6 -1.0\n",
       "  * SIG_LYR        (SIG_LYR) float32 -0.0025 -0.0275 -0.125 -0.4 -0.8\n",
       "    XCOR           (MC, NC) float32 ...\n",
       "    XZ             (M, N) float32 ...\n",
       "    YCOR           (MC, NC) float32 ...\n",
       "    YZ             (M, N) float32 ...\n",
       "  * time           (time) datetime64[ns] 2009-10-03\n",
       "Dimensions without coordinates: run_number, M, N, MC, NC, LSTSCI, LTUR\n",
       "Data variables: (12/32)\n",
       "    ALFAS          (run_number, M, N) float32 ...\n",
       "    DICWW          (run_number, time, KMAXOUT, M, N) float32 ...\n",
       "    DP0            (run_number, MC, NC) float32 ...\n",
       "    DPS0           (run_number, M, N) float32 ...\n",
       "    DPU0           (run_number, MC, N) float32 ...\n",
       "    DPV0           (run_number, M, NC) float32 ...\n",
       "    ...             ...\n",
       "    VICUV          (run_number, time, KMAXOUT_RESTR, M, N) float32 ...\n",
       "    VICWW          (run_number, time, KMAXOUT, M, N) float32 ...\n",
       "    VMNLDF         (run_number, time, M, NC) float32 ...\n",
       "    W              (run_number, time, KMAXOUT, M, N) float32 ...\n",
       "    WPHY           (run_number, time, KMAXOUT_RESTR, M, N) float32 ...\n",
       "    grid           (run_number) int32 ...\n",
       "Attributes:\n",
       "    Conventions:               CF-1.6\n",
       "    institution:               Deltares\n",
       "    references:                www.deltares.nl\n",
       "    source:                    Deltares, FLOW2D3D Version 6.02.07.6891, Aug 1...\n",
       "    history:                   Thu Jun 20 11:38:47 2019: ncecat -n 23,3,1 -u ...\n",
       "    NCO:                       &quot;4.5.4&quot;\n",
       "    nco_openmp_thread_number:  1</pre><div class='xr-wrap' style='display:none'><div class='xr-header'><div class='xr-obj-type'>xarray.Dataset</div></div><ul class='xr-sections'><li class='xr-section-item'><input id='section-e851e037-7a82-4999-b445-a6af1476718a' class='xr-section-summary-in' type='checkbox' disabled ><label for='section-e851e037-7a82-4999-b445-a6af1476718a' class='xr-section-summary'  title='Expand/collapse section'>Dimensions:</label><div class='xr-section-inline-details'><ul class='xr-dim-list'><li><span>run_number</span>: 23</li><li><span>M</span>: 282</li><li><span>N</span>: 192</li><li><span class='xr-has-index'>time</span>: 1</li><li><span class='xr-has-index'>KMAXOUT</span>: 6</li><li><span>MC</span>: 282</li><li><span>NC</span>: 192</li><li><span class='xr-has-index'>KMAXOUT_RESTR</span>: 5</li><li><span>LSTSCI</span>: 2</li><li><span>LTUR</span>: 2</li><li><span class='xr-has-index'>SIG_INTF</span>: 6</li><li><span class='xr-has-index'>SIG_LYR</span>: 5</li></ul></div><div class='xr-section-details'></div></li><li class='xr-section-item'><input id='section-a710e3bb-eb6c-4958-a933-deb1b29220c5' class='xr-section-summary-in' type='checkbox'  checked><label for='section-a710e3bb-eb6c-4958-a933-deb1b29220c5' class='xr-section-summary' >Coordinates: <span>(9)</span></label><div class='xr-section-inline-details'></div><div class='xr-section-details'><ul class='xr-var-list'><li class='xr-var-item'><div class='xr-var-name'><span class='xr-has-index'>KMAXOUT</span></div><div class='xr-var-dims'>(KMAXOUT)</div><div class='xr-var-dtype'>int32</div><div class='xr-var-preview xr-preview'>0 1 2 3 4 5</div><input id='attrs-3992ac6e-8b8a-4bd2-8c7f-e9525306decd' class='xr-var-attrs-in' type='checkbox' ><label for='attrs-3992ac6e-8b8a-4bd2-8c7f-e9525306decd' title='Show/Hide attributes'><svg class='icon xr-icon-file-text2'><use xlink:href='#icon-file-text2'></use></svg></label><input id='data-dc8a22ae-6be4-4782-a520-fe7c94561ad4' class='xr-var-data-in' type='checkbox'><label for='data-dc8a22ae-6be4-4782-a520-fe7c94561ad4' title='Show/Hide data repr'><svg class='icon xr-icon-database'><use xlink:href='#icon-database'></use></svg></label><div class='xr-var-attrs'><dl class='xr-attrs'><dt><span>long_name :</span></dt><dd>User selected output layer interfaces</dd><dt><span>units :</span></dt><dd>1</dd><dt><span>compress :</span></dt><dd>SIG_INTF</dd></dl></div><div class='xr-var-data'><pre>array([0, 1, 2, 3, 4, 5])</pre></div></li><li class='xr-var-item'><div class='xr-var-name'><span class='xr-has-index'>KMAXOUT_RESTR</span></div><div class='xr-var-dims'>(KMAXOUT_RESTR)</div><div class='xr-var-dtype'>int32</div><div class='xr-var-preview xr-preview'>0 1 2 3 4</div><input id='attrs-a5bbacd0-d763-4aa0-9bb8-878b0491712a' class='xr-var-attrs-in' type='checkbox' ><label for='attrs-a5bbacd0-d763-4aa0-9bb8-878b0491712a' title='Show/Hide attributes'><svg class='icon xr-icon-file-text2'><use xlink:href='#icon-file-text2'></use></svg></label><input id='data-c04f6950-b7cd-447c-a424-5054efdb5fc9' class='xr-var-data-in' type='checkbox'><label for='data-c04f6950-b7cd-447c-a424-5054efdb5fc9' title='Show/Hide data repr'><svg class='icon xr-icon-database'><use xlink:href='#icon-database'></use></svg></label><div class='xr-var-attrs'><dl class='xr-attrs'><dt><span>long_name :</span></dt><dd>User selected output layer centres</dd><dt><span>units :</span></dt><dd>1</dd><dt><span>compress :</span></dt><dd>SIG_LYR</dd></dl></div><div class='xr-var-data'><pre>array([0, 1, 2, 3, 4])</pre></div></li><li class='xr-var-item'><div class='xr-var-name'><span class='xr-has-index'>SIG_INTF</span></div><div class='xr-var-dims'>(SIG_INTF)</div><div class='xr-var-dtype'>float32</div><div class='xr-var-preview xr-preview'>0.0 -0.005 -0.05 -0.2 -0.6 -1.0</div><input id='attrs-f3054e9f-bf47-4008-ba21-42b53d8f5550' class='xr-var-attrs-in' type='checkbox' ><label for='attrs-f3054e9f-bf47-4008-ba21-42b53d8f5550' title='Show/Hide attributes'><svg class='icon xr-icon-file-text2'><use xlink:href='#icon-file-text2'></use></svg></label><input id='data-fea13eb6-5468-41a3-9a05-60202798c20b' class='xr-var-data-in' type='checkbox'><label for='data-fea13eb6-5468-41a3-9a05-60202798c20b' title='Show/Hide data repr'><svg class='icon xr-icon-database'><use xlink:href='#icon-database'></use></svg></label><div class='xr-var-attrs'><dl class='xr-attrs'><dt><span>standard_name :</span></dt><dd>ocean_sigma_coordinate</dd><dt><span>long_name :</span></dt><dd>Sigma coordinates of layer interfaces</dd><dt><span>units :</span></dt><dd>1</dd><dt><span>formula_terms :</span></dt><dd>sigma: SIG_INTF eta: S1 depth: DPS0</dd></dl></div><div class='xr-var-data'><pre>array([ 0.   , -0.005, -0.05 , -0.2  , -0.6  , -1.   ], dtype=float32)</pre></div></li><li class='xr-var-item'><div class='xr-var-name'><span class='xr-has-index'>SIG_LYR</span></div><div class='xr-var-dims'>(SIG_LYR)</div><div class='xr-var-dtype'>float32</div><div class='xr-var-preview xr-preview'>-0.0025 -0.0275 -0.125 -0.4 -0.8</div><input id='attrs-5cc36c9a-974d-4f4f-ba71-4ff10d451ce2' class='xr-var-attrs-in' type='checkbox' ><label for='attrs-5cc36c9a-974d-4f4f-ba71-4ff10d451ce2' title='Show/Hide attributes'><svg class='icon xr-icon-file-text2'><use xlink:href='#icon-file-text2'></use></svg></label><input id='data-df8db311-cb31-473b-b1bd-e047b4472c76' class='xr-var-data-in' type='checkbox'><label for='data-df8db311-cb31-473b-b1bd-e047b4472c76' title='Show/Hide data repr'><svg class='icon xr-icon-database'><use xlink:href='#icon-database'></use></svg></label><div class='xr-var-attrs'><dl class='xr-attrs'><dt><span>standard_name :</span></dt><dd>ocean_sigma_coordinate</dd><dt><span>long_name :</span></dt><dd>Sigma coordinates of layer centres</dd><dt><span>units :</span></dt><dd>1</dd><dt><span>formula_terms :</span></dt><dd>sigma: SIG_LYR eta: S1 depth: DPS0</dd></dl></div><div class='xr-var-data'><pre>array([-0.0025, -0.0275, -0.125 , -0.4   , -0.8   ], dtype=float32)</pre></div></li><li class='xr-var-item'><div class='xr-var-name'><span>XCOR</span></div><div class='xr-var-dims'>(MC, NC)</div><div class='xr-var-dtype'>float32</div><div class='xr-var-preview xr-preview'>...</div><input id='attrs-712605c3-ec52-4bcf-a0c1-7ee874580658' class='xr-var-attrs-in' type='checkbox' ><label for='attrs-712605c3-ec52-4bcf-a0c1-7ee874580658' title='Show/Hide attributes'><svg class='icon xr-icon-file-text2'><use xlink:href='#icon-file-text2'></use></svg></label><input id='data-e3670873-5892-4569-aeea-e7a71282033f' class='xr-var-data-in' type='checkbox'><label for='data-e3670873-5892-4569-aeea-e7a71282033f' title='Show/Hide data repr'><svg class='icon xr-icon-database'><use xlink:href='#icon-database'></use></svg></label><div class='xr-var-attrs'><dl class='xr-attrs'><dt><span>standard_name :</span></dt><dd>longitude</dd><dt><span>long_name :</span></dt><dd>X-coordinate of grid points</dd><dt><span>units :</span></dt><dd>degrees_east</dd></dl></div><div class='xr-var-data'><pre>[54144 values with dtype=float32]</pre></div></li><li class='xr-var-item'><div class='xr-var-name'><span>XZ</span></div><div class='xr-var-dims'>(M, N)</div><div class='xr-var-dtype'>float32</div><div class='xr-var-preview xr-preview'>...</div><input id='attrs-f4253e7a-6c2c-42a4-b394-9ba3e3a9d29d' class='xr-var-attrs-in' type='checkbox' ><label for='attrs-f4253e7a-6c2c-42a4-b394-9ba3e3a9d29d' title='Show/Hide attributes'><svg class='icon xr-icon-file-text2'><use xlink:href='#icon-file-text2'></use></svg></label><input id='data-30f4fb97-cb65-48c1-9e31-b378df26ff80' class='xr-var-data-in' type='checkbox'><label for='data-30f4fb97-cb65-48c1-9e31-b378df26ff80' title='Show/Hide data repr'><svg class='icon xr-icon-database'><use xlink:href='#icon-database'></use></svg></label><div class='xr-var-attrs'><dl class='xr-attrs'><dt><span>standard_name :</span></dt><dd>longitude</dd><dt><span>long_name :</span></dt><dd>X-coordinate of cell centres</dd><dt><span>units :</span></dt><dd>degrees_east</dd></dl></div><div class='xr-var-data'><pre>[54144 values with dtype=float32]</pre></div></li><li class='xr-var-item'><div class='xr-var-name'><span>YCOR</span></div><div class='xr-var-dims'>(MC, NC)</div><div class='xr-var-dtype'>float32</div><div class='xr-var-preview xr-preview'>...</div><input id='attrs-80f052db-1338-4855-b9fd-b37b69577145' class='xr-var-attrs-in' type='checkbox' ><label for='attrs-80f052db-1338-4855-b9fd-b37b69577145' title='Show/Hide attributes'><svg class='icon xr-icon-file-text2'><use xlink:href='#icon-file-text2'></use></svg></label><input id='data-b977d749-6455-41dd-ba8e-5533eede1da2' class='xr-var-data-in' type='checkbox'><label for='data-b977d749-6455-41dd-ba8e-5533eede1da2' title='Show/Hide data repr'><svg class='icon xr-icon-database'><use xlink:href='#icon-database'></use></svg></label><div class='xr-var-attrs'><dl class='xr-attrs'><dt><span>standard_name :</span></dt><dd>laitude</dd><dt><span>long_name :</span></dt><dd>Y-coordinate of grid points</dd><dt><span>units :</span></dt><dd>degrees_north</dd></dl></div><div class='xr-var-data'><pre>[54144 values with dtype=float32]</pre></div></li><li class='xr-var-item'><div class='xr-var-name'><span>YZ</span></div><div class='xr-var-dims'>(M, N)</div><div class='xr-var-dtype'>float32</div><div class='xr-var-preview xr-preview'>...</div><input id='attrs-7546f42f-232b-436d-adb3-ea21f10edc11' class='xr-var-attrs-in' type='checkbox' ><label for='attrs-7546f42f-232b-436d-adb3-ea21f10edc11' title='Show/Hide attributes'><svg class='icon xr-icon-file-text2'><use xlink:href='#icon-file-text2'></use></svg></label><input id='data-25d88189-9649-42e1-9b7e-c5cd769aeb6b' class='xr-var-data-in' type='checkbox'><label for='data-25d88189-9649-42e1-9b7e-c5cd769aeb6b' title='Show/Hide data repr'><svg class='icon xr-icon-database'><use xlink:href='#icon-database'></use></svg></label><div class='xr-var-attrs'><dl class='xr-attrs'><dt><span>standard_name :</span></dt><dd>laitude</dd><dt><span>long_name :</span></dt><dd>Y-coordinate of cell centres</dd><dt><span>units :</span></dt><dd>degrees_north</dd></dl></div><div class='xr-var-data'><pre>[54144 values with dtype=float32]</pre></div></li><li class='xr-var-item'><div class='xr-var-name'><span class='xr-has-index'>time</span></div><div class='xr-var-dims'>(time)</div><div class='xr-var-dtype'>datetime64[ns]</div><div class='xr-var-preview xr-preview'>2009-10-03</div><input id='attrs-ee416dfc-d2fd-4707-bcc2-5551517393bc' class='xr-var-attrs-in' type='checkbox' ><label for='attrs-ee416dfc-d2fd-4707-bcc2-5551517393bc' title='Show/Hide attributes'><svg class='icon xr-icon-file-text2'><use xlink:href='#icon-file-text2'></use></svg></label><input id='data-9158587d-68d6-40b7-8377-c3de9e234cfa' class='xr-var-data-in' type='checkbox'><label for='data-9158587d-68d6-40b7-8377-c3de9e234cfa' title='Show/Hide data repr'><svg class='icon xr-icon-database'><use xlink:href='#icon-database'></use></svg></label><div class='xr-var-attrs'><dl class='xr-attrs'><dt><span>standard_name :</span></dt><dd>time</dd><dt><span>long_name :</span></dt><dd>time</dd></dl></div><div class='xr-var-data'><pre>array([&#x27;2009-10-03T00:00:00.000000000&#x27;], dtype=&#x27;datetime64[ns]&#x27;)</pre></div></li></ul></div></li><li class='xr-section-item'><input id='section-0239b751-75a6-43d6-95c5-ecf2f65151c1' class='xr-section-summary-in' type='checkbox'  ><label for='section-0239b751-75a6-43d6-95c5-ecf2f65151c1' class='xr-section-summary' >Data variables: <span>(32)</span></label><div class='xr-section-inline-details'></div><div class='xr-section-details'><ul class='xr-var-list'><li class='xr-var-item'><div class='xr-var-name'><span>ALFAS</span></div><div class='xr-var-dims'>(run_number, M, N)</div><div class='xr-var-dtype'>float32</div><div class='xr-var-preview xr-preview'>...</div><input id='attrs-8c00f7e5-e6b7-43e5-924b-5a42301c2aee' class='xr-var-attrs-in' type='checkbox' ><label for='attrs-8c00f7e5-e6b7-43e5-924b-5a42301c2aee' title='Show/Hide attributes'><svg class='icon xr-icon-file-text2'><use xlink:href='#icon-file-text2'></use></svg></label><input id='data-8837d10d-077e-44a8-947b-36aa10f2c5b0' class='xr-var-data-in' type='checkbox'><label for='data-8837d10d-077e-44a8-947b-36aa10f2c5b0' title='Show/Hide data repr'><svg class='icon xr-icon-database'><use xlink:href='#icon-database'></use></svg></label><div class='xr-var-attrs'><dl class='xr-attrs'><dt><span>long_name :</span></dt><dd>Orientation ksi-axis w.r.t. pos.x-axis at water level point</dd><dt><span>units :</span></dt><dd>arc_degrees</dd><dt><span>grid :</span></dt><dd>grid</dd><dt><span>location :</span></dt><dd>face</dd></dl></div><div class='xr-var-data'><pre>[1245312 values with dtype=float32]</pre></div></li><li class='xr-var-item'><div class='xr-var-name'><span>DICWW</span></div><div class='xr-var-dims'>(run_number, time, KMAXOUT, M, N)</div><div class='xr-var-dtype'>float32</div><div class='xr-var-preview xr-preview'>...</div><input id='attrs-ac6976f6-594b-44ff-95af-9d494d80bd2e' class='xr-var-attrs-in' type='checkbox' ><label for='attrs-ac6976f6-594b-44ff-95af-9d494d80bd2e' title='Show/Hide attributes'><svg class='icon xr-icon-file-text2'><use xlink:href='#icon-file-text2'></use></svg></label><input id='data-fef2fbe3-6d15-4311-a867-b4af9a1965b5' class='xr-var-data-in' type='checkbox'><label for='data-fef2fbe3-6d15-4311-a867-b4af9a1965b5' title='Show/Hide data repr'><svg class='icon xr-icon-database'><use xlink:href='#icon-database'></use></svg></label><div class='xr-var-attrs'><dl class='xr-attrs'><dt><span>long_name :</span></dt><dd>Vertical eddy diffusivity-3D in zeta point</dd><dt><span>units :</span></dt><dd>m2/s</dd><dt><span>grid :</span></dt><dd>grid</dd><dt><span>location :</span></dt><dd>face</dd></dl></div><div class='xr-var-data'><pre>[7471872 values with dtype=float32]</pre></div></li><li class='xr-var-item'><div class='xr-var-name'><span>DP0</span></div><div class='xr-var-dims'>(run_number, MC, NC)</div><div class='xr-var-dtype'>float32</div><div class='xr-var-preview xr-preview'>...</div><input id='attrs-5aec8ec3-ade6-41ec-a7c4-dc1bd03d473d' class='xr-var-attrs-in' type='checkbox' ><label for='attrs-5aec8ec3-ade6-41ec-a7c4-dc1bd03d473d' title='Show/Hide attributes'><svg class='icon xr-icon-file-text2'><use xlink:href='#icon-file-text2'></use></svg></label><input id='data-054953e9-b777-41fb-b02c-4868b8e27247' class='xr-var-data-in' type='checkbox'><label for='data-054953e9-b777-41fb-b02c-4868b8e27247' title='Show/Hide data repr'><svg class='icon xr-icon-database'><use xlink:href='#icon-database'></use></svg></label><div class='xr-var-attrs'><dl class='xr-attrs'><dt><span>long_name :</span></dt><dd>Initial bottom depth (positive down)</dd><dt><span>units :</span></dt><dd>m</dd><dt><span>grid :</span></dt><dd>grid</dd><dt><span>location :</span></dt><dd>node</dd></dl></div><div class='xr-var-data'><pre>[1245312 values with dtype=float32]</pre></div></li><li class='xr-var-item'><div class='xr-var-name'><span>DPS0</span></div><div class='xr-var-dims'>(run_number, M, N)</div><div class='xr-var-dtype'>float32</div><div class='xr-var-preview xr-preview'>...</div><input id='attrs-7c785a19-8e8a-4a14-bece-0bb2c0619c8b' class='xr-var-attrs-in' type='checkbox' ><label for='attrs-7c785a19-8e8a-4a14-bece-0bb2c0619c8b' title='Show/Hide attributes'><svg class='icon xr-icon-file-text2'><use xlink:href='#icon-file-text2'></use></svg></label><input id='data-8283ba5e-6f56-4830-ba32-d17bfa880f49' class='xr-var-data-in' type='checkbox'><label for='data-8283ba5e-6f56-4830-ba32-d17bfa880f49' title='Show/Hide data repr'><svg class='icon xr-icon-database'><use xlink:href='#icon-database'></use></svg></label><div class='xr-var-attrs'><dl class='xr-attrs'><dt><span>long_name :</span></dt><dd>Initial bottom depth at zeta points (positive down)</dd><dt><span>units :</span></dt><dd>m</dd><dt><span>grid :</span></dt><dd>grid</dd><dt><span>location :</span></dt><dd>face</dd></dl></div><div class='xr-var-data'><pre>[1245312 values with dtype=float32]</pre></div></li><li class='xr-var-item'><div class='xr-var-name'><span>DPU0</span></div><div class='xr-var-dims'>(run_number, MC, N)</div><div class='xr-var-dtype'>float32</div><div class='xr-var-preview xr-preview'>...</div><input id='attrs-39529334-64aa-4110-a005-f2a743f4f606' class='xr-var-attrs-in' type='checkbox' ><label for='attrs-39529334-64aa-4110-a005-f2a743f4f606' title='Show/Hide attributes'><svg class='icon xr-icon-file-text2'><use xlink:href='#icon-file-text2'></use></svg></label><input id='data-779575ae-506c-44cf-9177-265422f0f041' class='xr-var-data-in' type='checkbox'><label for='data-779575ae-506c-44cf-9177-265422f0f041' title='Show/Hide data repr'><svg class='icon xr-icon-database'><use xlink:href='#icon-database'></use></svg></label><div class='xr-var-attrs'><dl class='xr-attrs'><dt><span>long_name :</span></dt><dd>Initial bottom depth at u points (positive down)</dd><dt><span>units :</span></dt><dd>m</dd><dt><span>grid :</span></dt><dd>grid</dd><dt><span>location :</span></dt><dd>edge1</dd></dl></div><div class='xr-var-data'><pre>[1245312 values with dtype=float32]</pre></div></li><li class='xr-var-item'><div class='xr-var-name'><span>DPV0</span></div><div class='xr-var-dims'>(run_number, M, NC)</div><div class='xr-var-dtype'>float32</div><div class='xr-var-preview xr-preview'>...</div><input id='attrs-328d8c74-1ce6-4684-b0b2-adbfca5d1c3c' class='xr-var-attrs-in' type='checkbox' ><label for='attrs-328d8c74-1ce6-4684-b0b2-adbfca5d1c3c' title='Show/Hide attributes'><svg class='icon xr-icon-file-text2'><use xlink:href='#icon-file-text2'></use></svg></label><input id='data-22759304-ed8c-4194-a180-d3cbaf16c23c' class='xr-var-data-in' type='checkbox'><label for='data-22759304-ed8c-4194-a180-d3cbaf16c23c' title='Show/Hide data repr'><svg class='icon xr-icon-database'><use xlink:href='#icon-database'></use></svg></label><div class='xr-var-attrs'><dl class='xr-attrs'><dt><span>long_name :</span></dt><dd>Initial bottom depth at v points (positive down)</dd><dt><span>units :</span></dt><dd>m</dd><dt><span>grid :</span></dt><dd>grid</dd><dt><span>location :</span></dt><dd>edge2</dd></dl></div><div class='xr-var-data'><pre>[1245312 values with dtype=float32]</pre></div></li><li class='xr-var-item'><div class='xr-var-name'><span>GRAVITY</span></div><div class='xr-var-dims'>(run_number)</div><div class='xr-var-dtype'>float32</div><div class='xr-var-preview xr-preview'>...</div><input id='attrs-58be77cc-42bf-4ad6-9aa5-7bbbab9ebac7' class='xr-var-attrs-in' type='checkbox' ><label for='attrs-58be77cc-42bf-4ad6-9aa5-7bbbab9ebac7' title='Show/Hide attributes'><svg class='icon xr-icon-file-text2'><use xlink:href='#icon-file-text2'></use></svg></label><input id='data-8e43a363-ea13-4bf5-95f0-5969de2f9f9b' class='xr-var-data-in' type='checkbox'><label for='data-8e43a363-ea13-4bf5-95f0-5969de2f9f9b' title='Show/Hide data repr'><svg class='icon xr-icon-database'><use xlink:href='#icon-database'></use></svg></label><div class='xr-var-attrs'><dl class='xr-attrs'><dt><span>long_name :</span></dt><dd>Gravitational acceleration</dd><dt><span>units :</span></dt><dd>m/s2</dd></dl></div><div class='xr-var-data'><pre>[23 values with dtype=float32]</pre></div></li><li class='xr-var-item'><div class='xr-var-name'><span>GSQS</span></div><div class='xr-var-dims'>(run_number, M, N)</div><div class='xr-var-dtype'>float32</div><div class='xr-var-preview xr-preview'>...</div><input id='attrs-3d2defd1-1948-4cad-a68f-bb501ef1d71f' class='xr-var-attrs-in' type='checkbox' ><label for='attrs-3d2defd1-1948-4cad-a68f-bb501ef1d71f' title='Show/Hide attributes'><svg class='icon xr-icon-file-text2'><use xlink:href='#icon-file-text2'></use></svg></label><input id='data-ae59a3da-33fb-477b-9b78-1ddb49c38512' class='xr-var-data-in' type='checkbox'><label for='data-ae59a3da-33fb-477b-9b78-1ddb49c38512' title='Show/Hide data repr'><svg class='icon xr-icon-database'><use xlink:href='#icon-database'></use></svg></label><div class='xr-var-attrs'><dl class='xr-attrs'><dt><span>long_name :</span></dt><dd>Horizontal area of computational cell</dd><dt><span>units :</span></dt><dd>m2</dd><dt><span>grid :</span></dt><dd>grid</dd><dt><span>location :</span></dt><dd>face</dd></dl></div><div class='xr-var-data'><pre>[1245312 values with dtype=float32]</pre></div></li><li class='xr-var-item'><div class='xr-var-name'><span>KCS</span></div><div class='xr-var-dims'>(run_number, M, N)</div><div class='xr-var-dtype'>int32</div><div class='xr-var-preview xr-preview'>...</div><input id='attrs-46785f90-bc20-4918-b6b6-d19f0c7058cf' class='xr-var-attrs-in' type='checkbox' ><label for='attrs-46785f90-bc20-4918-b6b6-d19f0c7058cf' title='Show/Hide attributes'><svg class='icon xr-icon-file-text2'><use xlink:href='#icon-file-text2'></use></svg></label><input id='data-f06bb79b-91cc-4ec4-aaff-657b91257b6c' class='xr-var-data-in' type='checkbox'><label for='data-f06bb79b-91cc-4ec4-aaff-657b91257b6c' title='Show/Hide data repr'><svg class='icon xr-icon-database'><use xlink:href='#icon-database'></use></svg></label><div class='xr-var-attrs'><dl class='xr-attrs'><dt><span>long_name :</span></dt><dd>Non-active/active water-level point</dd><dt><span>units :</span></dt><dd>1</dd><dt><span>grid :</span></dt><dd>grid</dd><dt><span>location :</span></dt><dd>face</dd></dl></div><div class='xr-var-data'><pre>[1245312 values with dtype=int32]</pre></div></li><li class='xr-var-item'><div class='xr-var-name'><span>KCU</span></div><div class='xr-var-dims'>(run_number, MC, N)</div><div class='xr-var-dtype'>int32</div><div class='xr-var-preview xr-preview'>...</div><input id='attrs-bd521c68-7c89-45fb-88f3-15ed4f46885d' class='xr-var-attrs-in' type='checkbox' ><label for='attrs-bd521c68-7c89-45fb-88f3-15ed4f46885d' title='Show/Hide attributes'><svg class='icon xr-icon-file-text2'><use xlink:href='#icon-file-text2'></use></svg></label><input id='data-1cb22e03-9a15-45d6-984f-8593e1a26493' class='xr-var-data-in' type='checkbox'><label for='data-1cb22e03-9a15-45d6-984f-8593e1a26493' title='Show/Hide data repr'><svg class='icon xr-icon-database'><use xlink:href='#icon-database'></use></svg></label><div class='xr-var-attrs'><dl class='xr-attrs'><dt><span>long_name :</span></dt><dd>Mask array for U-velocity points</dd><dt><span>units :</span></dt><dd>1</dd><dt><span>grid :</span></dt><dd>grid</dd><dt><span>location :</span></dt><dd>edge1</dd></dl></div><div class='xr-var-data'><pre>[1245312 values with dtype=int32]</pre></div></li><li class='xr-var-item'><div class='xr-var-name'><span>KCV</span></div><div class='xr-var-dims'>(run_number, M, NC)</div><div class='xr-var-dtype'>int32</div><div class='xr-var-preview xr-preview'>...</div><input id='attrs-f759743d-dc05-4735-bc27-133d27ba8cce' class='xr-var-attrs-in' type='checkbox' ><label for='attrs-f759743d-dc05-4735-bc27-133d27ba8cce' title='Show/Hide attributes'><svg class='icon xr-icon-file-text2'><use xlink:href='#icon-file-text2'></use></svg></label><input id='data-bc654e27-f28a-4703-bc46-3ef3e74f6437' class='xr-var-data-in' type='checkbox'><label for='data-bc654e27-f28a-4703-bc46-3ef3e74f6437' title='Show/Hide data repr'><svg class='icon xr-icon-database'><use xlink:href='#icon-database'></use></svg></label><div class='xr-var-attrs'><dl class='xr-attrs'><dt><span>long_name :</span></dt><dd>Mask array for V-velocity points</dd><dt><span>units :</span></dt><dd>1</dd><dt><span>grid :</span></dt><dd>grid</dd><dt><span>location :</span></dt><dd>edge2</dd></dl></div><div class='xr-var-data'><pre>[1245312 values with dtype=int32]</pre></div></li><li class='xr-var-item'><div class='xr-var-name'><span>KFU</span></div><div class='xr-var-dims'>(run_number, time, MC, N)</div><div class='xr-var-dtype'>int32</div><div class='xr-var-preview xr-preview'>...</div><input id='attrs-005e8055-1cb7-4421-b88d-5676b3f1b264' class='xr-var-attrs-in' type='checkbox' ><label for='attrs-005e8055-1cb7-4421-b88d-5676b3f1b264' title='Show/Hide attributes'><svg class='icon xr-icon-file-text2'><use xlink:href='#icon-file-text2'></use></svg></label><input id='data-f11f323c-9b96-45ae-b71a-51d6353c4e58' class='xr-var-data-in' type='checkbox'><label for='data-f11f323c-9b96-45ae-b71a-51d6353c4e58' title='Show/Hide data repr'><svg class='icon xr-icon-database'><use xlink:href='#icon-database'></use></svg></label><div class='xr-var-attrs'><dl class='xr-attrs'><dt><span>long_name :</span></dt><dd>Non-active/active in U-point</dd><dt><span>units :</span></dt><dd>1</dd><dt><span>grid :</span></dt><dd>grid</dd><dt><span>location :</span></dt><dd>edge1</dd></dl></div><div class='xr-var-data'><pre>[1245312 values with dtype=int32]</pre></div></li><li class='xr-var-item'><div class='xr-var-name'><span>KFV</span></div><div class='xr-var-dims'>(run_number, time, M, NC)</div><div class='xr-var-dtype'>int32</div><div class='xr-var-preview xr-preview'>...</div><input id='attrs-dd038080-26b9-49a6-a3cb-5e7cbcea3d98' class='xr-var-attrs-in' type='checkbox' ><label for='attrs-dd038080-26b9-49a6-a3cb-5e7cbcea3d98' title='Show/Hide attributes'><svg class='icon xr-icon-file-text2'><use xlink:href='#icon-file-text2'></use></svg></label><input id='data-574ea2b2-0744-45a6-a154-7f86827e6552' class='xr-var-data-in' type='checkbox'><label for='data-574ea2b2-0744-45a6-a154-7f86827e6552' title='Show/Hide data repr'><svg class='icon xr-icon-database'><use xlink:href='#icon-database'></use></svg></label><div class='xr-var-attrs'><dl class='xr-attrs'><dt><span>long_name :</span></dt><dd>Non-active/active in V-point</dd><dt><span>units :</span></dt><dd>1</dd><dt><span>grid :</span></dt><dd>grid</dd><dt><span>location :</span></dt><dd>edge2</dd></dl></div><div class='xr-var-data'><pre>[1245312 values with dtype=int32]</pre></div></li><li class='xr-var-item'><div class='xr-var-name'><span>PPARTITION</span></div><div class='xr-var-dims'>(run_number, M, N)</div><div class='xr-var-dtype'>int32</div><div class='xr-var-preview xr-preview'>...</div><input id='attrs-22588886-18ef-48c9-8ed5-90667124ea01' class='xr-var-attrs-in' type='checkbox' ><label for='attrs-22588886-18ef-48c9-8ed5-90667124ea01' title='Show/Hide attributes'><svg class='icon xr-icon-file-text2'><use xlink:href='#icon-file-text2'></use></svg></label><input id='data-0b3ab510-2ff1-4876-9b3f-958fc7561307' class='xr-var-data-in' type='checkbox'><label for='data-0b3ab510-2ff1-4876-9b3f-958fc7561307' title='Show/Hide data repr'><svg class='icon xr-icon-database'><use xlink:href='#icon-database'></use></svg></label><div class='xr-var-attrs'><dl class='xr-attrs'><dt><span>long_name :</span></dt><dd>Partition</dd><dt><span>units :</span></dt><dd>1</dd><dt><span>grid :</span></dt><dd>grid</dd><dt><span>location :</span></dt><dd>face</dd></dl></div><div class='xr-var-data'><pre>[1245312 values with dtype=int32]</pre></div></li><li class='xr-var-item'><div class='xr-var-name'><span>R1</span></div><div class='xr-var-dims'>(run_number, time, LSTSCI, KMAXOUT_RESTR, M, N)</div><div class='xr-var-dtype'>float32</div><div class='xr-var-preview xr-preview'>...</div><input id='attrs-fc51795c-fec5-4932-bebb-acd5c67c0b55' class='xr-var-attrs-in' type='checkbox' ><label for='attrs-fc51795c-fec5-4932-bebb-acd5c67c0b55' title='Show/Hide attributes'><svg class='icon xr-icon-file-text2'><use xlink:href='#icon-file-text2'></use></svg></label><input id='data-086eac10-f27e-4809-81ad-5876cc82cfde' class='xr-var-data-in' type='checkbox'><label for='data-086eac10-f27e-4809-81ad-5876cc82cfde' title='Show/Hide data repr'><svg class='icon xr-icon-database'><use xlink:href='#icon-database'></use></svg></label><div class='xr-var-attrs'><dl class='xr-attrs'><dt><span>long_name :</span></dt><dd>Concentrations per layer in zeta point</dd><dt><span>units :</span></dt><dd>1</dd><dt><span>grid :</span></dt><dd>grid</dd><dt><span>location :</span></dt><dd>face</dd></dl></div><div class='xr-var-data'><pre>[12453120 values with dtype=float32]</pre></div></li><li class='xr-var-item'><div class='xr-var-name'><span>RHO</span></div><div class='xr-var-dims'>(run_number, time, KMAXOUT_RESTR, M, N)</div><div class='xr-var-dtype'>float32</div><div class='xr-var-preview xr-preview'>...</div><input id='attrs-39cd44da-b9fc-4220-8c47-ff897dcd44f0' class='xr-var-attrs-in' type='checkbox' ><label for='attrs-39cd44da-b9fc-4220-8c47-ff897dcd44f0' title='Show/Hide attributes'><svg class='icon xr-icon-file-text2'><use xlink:href='#icon-file-text2'></use></svg></label><input id='data-6c876f15-d00f-4ff5-983d-17498fcbbfdb' class='xr-var-data-in' type='checkbox'><label for='data-6c876f15-d00f-4ff5-983d-17498fcbbfdb' title='Show/Hide data repr'><svg class='icon xr-icon-database'><use xlink:href='#icon-database'></use></svg></label><div class='xr-var-attrs'><dl class='xr-attrs'><dt><span>long_name :</span></dt><dd>Density per layer in zeta point</dd><dt><span>units :</span></dt><dd>kg/m3</dd><dt><span>grid :</span></dt><dd>grid</dd><dt><span>location :</span></dt><dd>face</dd></dl></div><div class='xr-var-data'><pre>[6226560 values with dtype=float32]</pre></div></li><li class='xr-var-item'><div class='xr-var-name'><span>RHOCONST</span></div><div class='xr-var-dims'>(run_number)</div><div class='xr-var-dtype'>float32</div><div class='xr-var-preview xr-preview'>...</div><input id='attrs-f3c0dc9d-f5d5-4a31-a652-265971555af4' class='xr-var-attrs-in' type='checkbox' ><label for='attrs-f3c0dc9d-f5d5-4a31-a652-265971555af4' title='Show/Hide attributes'><svg class='icon xr-icon-file-text2'><use xlink:href='#icon-file-text2'></use></svg></label><input id='data-bddef7e5-2fcd-4203-b1f4-48ecb3117716' class='xr-var-data-in' type='checkbox'><label for='data-bddef7e5-2fcd-4203-b1f4-48ecb3117716' title='Show/Hide data repr'><svg class='icon xr-icon-database'><use xlink:href='#icon-database'></use></svg></label><div class='xr-var-attrs'><dl class='xr-attrs'><dt><span>long_name :</span></dt><dd>User specified constant density</dd><dt><span>units :</span></dt><dd>kg/m3</dd></dl></div><div class='xr-var-data'><pre>[23 values with dtype=float32]</pre></div></li><li class='xr-var-item'><div class='xr-var-name'><span>RICH</span></div><div class='xr-var-dims'>(run_number, time, KMAXOUT, M, N)</div><div class='xr-var-dtype'>float32</div><div class='xr-var-preview xr-preview'>...</div><input id='attrs-710bff9c-2422-4f20-8362-745fc16fd567' class='xr-var-attrs-in' type='checkbox' ><label for='attrs-710bff9c-2422-4f20-8362-745fc16fd567' title='Show/Hide attributes'><svg class='icon xr-icon-file-text2'><use xlink:href='#icon-file-text2'></use></svg></label><input id='data-6cea3d03-9585-4b58-8e9a-88fb09a618e3' class='xr-var-data-in' type='checkbox'><label for='data-6cea3d03-9585-4b58-8e9a-88fb09a618e3' title='Show/Hide data repr'><svg class='icon xr-icon-database'><use xlink:href='#icon-database'></use></svg></label><div class='xr-var-attrs'><dl class='xr-attrs'><dt><span>long_name :</span></dt><dd>Richardson number</dd><dt><span>units :</span></dt><dd>1</dd><dt><span>grid :</span></dt><dd>grid</dd><dt><span>location :</span></dt><dd>face</dd></dl></div><div class='xr-var-data'><pre>[7471872 values with dtype=float32]</pre></div></li><li class='xr-var-item'><div class='xr-var-name'><span>RTUR1</span></div><div class='xr-var-dims'>(run_number, time, LTUR, KMAXOUT, M, N)</div><div class='xr-var-dtype'>float32</div><div class='xr-var-preview xr-preview'>...</div><input id='attrs-03c116ca-94e3-4acd-83e7-2508bc023253' class='xr-var-attrs-in' type='checkbox' ><label for='attrs-03c116ca-94e3-4acd-83e7-2508bc023253' title='Show/Hide attributes'><svg class='icon xr-icon-file-text2'><use xlink:href='#icon-file-text2'></use></svg></label><input id='data-956e5fbb-dde2-4b5d-9fb5-66b88b2af6b5' class='xr-var-data-in' type='checkbox'><label for='data-956e5fbb-dde2-4b5d-9fb5-66b88b2af6b5' title='Show/Hide data repr'><svg class='icon xr-icon-database'><use xlink:href='#icon-database'></use></svg></label><div class='xr-var-attrs'><dl class='xr-attrs'><dt><span>long_name :</span></dt><dd>Turbulent quantity per layer in zeta point</dd><dt><span>units :</span></dt><dd>1</dd><dt><span>grid :</span></dt><dd>grid</dd><dt><span>location :</span></dt><dd>face</dd></dl></div><div class='xr-var-data'><pre>[14943744 values with dtype=float32]</pre></div></li><li class='xr-var-item'><div class='xr-var-name'><span>S1</span></div><div class='xr-var-dims'>(run_number, time, M, N)</div><div class='xr-var-dtype'>float32</div><div class='xr-var-preview xr-preview'>...</div><input id='attrs-81c6c759-8747-409d-bfb6-40f70f17dadc' class='xr-var-attrs-in' type='checkbox' ><label for='attrs-81c6c759-8747-409d-bfb6-40f70f17dadc' title='Show/Hide attributes'><svg class='icon xr-icon-file-text2'><use xlink:href='#icon-file-text2'></use></svg></label><input id='data-75133261-ca57-4253-89e0-261b2118bfb9' class='xr-var-data-in' type='checkbox'><label for='data-75133261-ca57-4253-89e0-261b2118bfb9' title='Show/Hide data repr'><svg class='icon xr-icon-database'><use xlink:href='#icon-database'></use></svg></label><div class='xr-var-attrs'><dl class='xr-attrs'><dt><span>long_name :</span></dt><dd>Water-level in zeta point</dd><dt><span>units :</span></dt><dd>m</dd><dt><span>grid :</span></dt><dd>grid</dd><dt><span>location :</span></dt><dd>face</dd></dl></div><div class='xr-var-data'><pre>[1245312 values with dtype=float32]</pre></div></li><li class='xr-var-item'><div class='xr-var-name'><span>TAUETA</span></div><div class='xr-var-dims'>(run_number, time, M, NC)</div><div class='xr-var-dtype'>float32</div><div class='xr-var-preview xr-preview'>...</div><input id='attrs-cb4006a2-6708-4a76-a357-b42a23679993' class='xr-var-attrs-in' type='checkbox' ><label for='attrs-cb4006a2-6708-4a76-a357-b42a23679993' title='Show/Hide attributes'><svg class='icon xr-icon-file-text2'><use xlink:href='#icon-file-text2'></use></svg></label><input id='data-5fe277da-bfb3-4647-a892-45d047492bbc' class='xr-var-data-in' type='checkbox'><label for='data-5fe277da-bfb3-4647-a892-45d047492bbc' title='Show/Hide data repr'><svg class='icon xr-icon-database'><use xlink:href='#icon-database'></use></svg></label><div class='xr-var-attrs'><dl class='xr-attrs'><dt><span>long_name :</span></dt><dd>Bottom stress in V-point</dd><dt><span>units :</span></dt><dd>N/m2</dd><dt><span>grid :</span></dt><dd>grid</dd><dt><span>location :</span></dt><dd>edge2</dd></dl></div><div class='xr-var-data'><pre>[1245312 values with dtype=float32]</pre></div></li><li class='xr-var-item'><div class='xr-var-name'><span>TAUKSI</span></div><div class='xr-var-dims'>(run_number, time, MC, N)</div><div class='xr-var-dtype'>float32</div><div class='xr-var-preview xr-preview'>...</div><input id='attrs-e4d8416e-31bd-47cb-abec-e67fb9042bb6' class='xr-var-attrs-in' type='checkbox' ><label for='attrs-e4d8416e-31bd-47cb-abec-e67fb9042bb6' title='Show/Hide attributes'><svg class='icon xr-icon-file-text2'><use xlink:href='#icon-file-text2'></use></svg></label><input id='data-bf18a1e6-5ffb-419f-96f0-d512494e5470' class='xr-var-data-in' type='checkbox'><label for='data-bf18a1e6-5ffb-419f-96f0-d512494e5470' title='Show/Hide data repr'><svg class='icon xr-icon-database'><use xlink:href='#icon-database'></use></svg></label><div class='xr-var-attrs'><dl class='xr-attrs'><dt><span>long_name :</span></dt><dd>Bottom stress in U-point</dd><dt><span>units :</span></dt><dd>N/m2</dd><dt><span>grid :</span></dt><dd>grid</dd><dt><span>location :</span></dt><dd>edge1</dd></dl></div><div class='xr-var-data'><pre>[1245312 values with dtype=float32]</pre></div></li><li class='xr-var-item'><div class='xr-var-name'><span>TAUMAX</span></div><div class='xr-var-dims'>(run_number, time, M, N)</div><div class='xr-var-dtype'>float32</div><div class='xr-var-preview xr-preview'>...</div><input id='attrs-c6530e54-967d-43aa-8385-1ef76ee64ad5' class='xr-var-attrs-in' type='checkbox' ><label for='attrs-c6530e54-967d-43aa-8385-1ef76ee64ad5' title='Show/Hide attributes'><svg class='icon xr-icon-file-text2'><use xlink:href='#icon-file-text2'></use></svg></label><input id='data-381838bf-5d35-48be-bd2c-f638a98a6b5f' class='xr-var-data-in' type='checkbox'><label for='data-381838bf-5d35-48be-bd2c-f638a98a6b5f' title='Show/Hide data repr'><svg class='icon xr-icon-database'><use xlink:href='#icon-database'></use></svg></label><div class='xr-var-attrs'><dl class='xr-attrs'><dt><span>long_name :</span></dt><dd>Tau_max in zeta points (scalar)</dd><dt><span>units :</span></dt><dd>N/m2</dd><dt><span>grid :</span></dt><dd>grid</dd><dt><span>location :</span></dt><dd>face</dd></dl></div><div class='xr-var-data'><pre>[1245312 values with dtype=float32]</pre></div></li><li class='xr-var-item'><div class='xr-var-name'><span>U1</span></div><div class='xr-var-dims'>(run_number, time, KMAXOUT_RESTR, MC, N)</div><div class='xr-var-dtype'>float32</div><div class='xr-var-preview xr-preview'>...</div><input id='attrs-fcbb7d16-078d-4236-a902-477e765ae394' class='xr-var-attrs-in' type='checkbox' ><label for='attrs-fcbb7d16-078d-4236-a902-477e765ae394' title='Show/Hide attributes'><svg class='icon xr-icon-file-text2'><use xlink:href='#icon-file-text2'></use></svg></label><input id='data-b38bda0c-c442-48b5-827e-e7982e28ddbd' class='xr-var-data-in' type='checkbox'><label for='data-b38bda0c-c442-48b5-827e-e7982e28ddbd' title='Show/Hide data repr'><svg class='icon xr-icon-database'><use xlink:href='#icon-database'></use></svg></label><div class='xr-var-attrs'><dl class='xr-attrs'><dt><span>long_name :</span></dt><dd>U-velocity per layer in U-point (Eulerian)</dd><dt><span>units :</span></dt><dd>m/s</dd><dt><span>grid :</span></dt><dd>grid</dd><dt><span>location :</span></dt><dd>edge1</dd></dl></div><div class='xr-var-data'><pre>[6226560 values with dtype=float32]</pre></div></li><li class='xr-var-item'><div class='xr-var-name'><span>UMNLDF</span></div><div class='xr-var-dims'>(run_number, time, MC, N)</div><div class='xr-var-dtype'>float32</div><div class='xr-var-preview xr-preview'>...</div><input id='attrs-4e3161b9-1e36-4a10-ad04-d16d40859870' class='xr-var-attrs-in' type='checkbox' ><label for='attrs-4e3161b9-1e36-4a10-ad04-d16d40859870' title='Show/Hide attributes'><svg class='icon xr-icon-file-text2'><use xlink:href='#icon-file-text2'></use></svg></label><input id='data-e1e5699f-a3e6-44f6-9b2f-a6dc74b86af9' class='xr-var-data-in' type='checkbox'><label for='data-e1e5699f-a3e6-44f6-9b2f-a6dc74b86af9' title='Show/Hide data repr'><svg class='icon xr-icon-database'><use xlink:href='#icon-database'></use></svg></label><div class='xr-var-attrs'><dl class='xr-attrs'><dt><span>long_name :</span></dt><dd>Filtered U-velocity</dd><dt><span>units :</span></dt><dd>m/s</dd><dt><span>grid :</span></dt><dd>grid</dd><dt><span>location :</span></dt><dd>edge1</dd></dl></div><div class='xr-var-data'><pre>[1245312 values with dtype=float32]</pre></div></li><li class='xr-var-item'><div class='xr-var-name'><span>V1</span></div><div class='xr-var-dims'>(run_number, time, KMAXOUT_RESTR, M, NC)</div><div class='xr-var-dtype'>float32</div><div class='xr-var-preview xr-preview'>...</div><input id='attrs-c3d0116f-46c0-420e-891d-0566dbaaeaf8' class='xr-var-attrs-in' type='checkbox' ><label for='attrs-c3d0116f-46c0-420e-891d-0566dbaaeaf8' title='Show/Hide attributes'><svg class='icon xr-icon-file-text2'><use xlink:href='#icon-file-text2'></use></svg></label><input id='data-5b6518ef-d450-4959-aa27-af9092fd2740' class='xr-var-data-in' type='checkbox'><label for='data-5b6518ef-d450-4959-aa27-af9092fd2740' title='Show/Hide data repr'><svg class='icon xr-icon-database'><use xlink:href='#icon-database'></use></svg></label><div class='xr-var-attrs'><dl class='xr-attrs'><dt><span>long_name :</span></dt><dd>V-velocity per layer in V-point (Eulerian)</dd><dt><span>units :</span></dt><dd>m/s</dd><dt><span>grid :</span></dt><dd>grid</dd><dt><span>location :</span></dt><dd>edge2</dd></dl></div><div class='xr-var-data'><pre>[6226560 values with dtype=float32]</pre></div></li><li class='xr-var-item'><div class='xr-var-name'><span>VICUV</span></div><div class='xr-var-dims'>(run_number, time, KMAXOUT_RESTR, M, N)</div><div class='xr-var-dtype'>float32</div><div class='xr-var-preview xr-preview'>...</div><input id='attrs-a86f0540-eb47-48e9-b4d6-c8f21936a35f' class='xr-var-attrs-in' type='checkbox' ><label for='attrs-a86f0540-eb47-48e9-b4d6-c8f21936a35f' title='Show/Hide attributes'><svg class='icon xr-icon-file-text2'><use xlink:href='#icon-file-text2'></use></svg></label><input id='data-3d6e19b3-12d4-4f0c-a41a-4c2b6838fb6b' class='xr-var-data-in' type='checkbox'><label for='data-3d6e19b3-12d4-4f0c-a41a-4c2b6838fb6b' title='Show/Hide data repr'><svg class='icon xr-icon-database'><use xlink:href='#icon-database'></use></svg></label><div class='xr-var-attrs'><dl class='xr-attrs'><dt><span>long_name :</span></dt><dd>Horizontal eddy viscosity in zeta point</dd><dt><span>units :</span></dt><dd>m2/s</dd><dt><span>grid :</span></dt><dd>grid</dd><dt><span>location :</span></dt><dd>face</dd></dl></div><div class='xr-var-data'><pre>[6226560 values with dtype=float32]</pre></div></li><li class='xr-var-item'><div class='xr-var-name'><span>VICWW</span></div><div class='xr-var-dims'>(run_number, time, KMAXOUT, M, N)</div><div class='xr-var-dtype'>float32</div><div class='xr-var-preview xr-preview'>...</div><input id='attrs-72ebc6bf-9fac-4ae4-a7dc-67e8fd2d3f54' class='xr-var-attrs-in' type='checkbox' ><label for='attrs-72ebc6bf-9fac-4ae4-a7dc-67e8fd2d3f54' title='Show/Hide attributes'><svg class='icon xr-icon-file-text2'><use xlink:href='#icon-file-text2'></use></svg></label><input id='data-7915d1dd-f1f6-4c91-a607-25b4cd74316c' class='xr-var-data-in' type='checkbox'><label for='data-7915d1dd-f1f6-4c91-a607-25b4cd74316c' title='Show/Hide data repr'><svg class='icon xr-icon-database'><use xlink:href='#icon-database'></use></svg></label><div class='xr-var-attrs'><dl class='xr-attrs'><dt><span>long_name :</span></dt><dd>Vertical eddy viscosity-3D in zeta point</dd><dt><span>units :</span></dt><dd>m2/s</dd><dt><span>grid :</span></dt><dd>grid</dd><dt><span>location :</span></dt><dd>face</dd></dl></div><div class='xr-var-data'><pre>[7471872 values with dtype=float32]</pre></div></li><li class='xr-var-item'><div class='xr-var-name'><span>VMNLDF</span></div><div class='xr-var-dims'>(run_number, time, M, NC)</div><div class='xr-var-dtype'>float32</div><div class='xr-var-preview xr-preview'>...</div><input id='attrs-17c8300b-6b63-4c72-91d5-3ec660ed3f66' class='xr-var-attrs-in' type='checkbox' ><label for='attrs-17c8300b-6b63-4c72-91d5-3ec660ed3f66' title='Show/Hide attributes'><svg class='icon xr-icon-file-text2'><use xlink:href='#icon-file-text2'></use></svg></label><input id='data-9d84f2c4-f4f7-4d42-8272-ab955799b3a4' class='xr-var-data-in' type='checkbox'><label for='data-9d84f2c4-f4f7-4d42-8272-ab955799b3a4' title='Show/Hide data repr'><svg class='icon xr-icon-database'><use xlink:href='#icon-database'></use></svg></label><div class='xr-var-attrs'><dl class='xr-attrs'><dt><span>long_name :</span></dt><dd>Filtered V-velocity</dd><dt><span>units :</span></dt><dd>m/s</dd><dt><span>grid :</span></dt><dd>grid</dd><dt><span>location :</span></dt><dd>edge2</dd></dl></div><div class='xr-var-data'><pre>[1245312 values with dtype=float32]</pre></div></li><li class='xr-var-item'><div class='xr-var-name'><span>W</span></div><div class='xr-var-dims'>(run_number, time, KMAXOUT, M, N)</div><div class='xr-var-dtype'>float32</div><div class='xr-var-preview xr-preview'>...</div><input id='attrs-d7adc13b-52c7-4331-81c6-452b642d3169' class='xr-var-attrs-in' type='checkbox' ><label for='attrs-d7adc13b-52c7-4331-81c6-452b642d3169' title='Show/Hide attributes'><svg class='icon xr-icon-file-text2'><use xlink:href='#icon-file-text2'></use></svg></label><input id='data-e036c4ba-acef-4098-8447-f898dec27009' class='xr-var-data-in' type='checkbox'><label for='data-e036c4ba-acef-4098-8447-f898dec27009' title='Show/Hide data repr'><svg class='icon xr-icon-database'><use xlink:href='#icon-database'></use></svg></label><div class='xr-var-attrs'><dl class='xr-attrs'><dt><span>long_name :</span></dt><dd>W-omega per layer in zeta point</dd><dt><span>units :</span></dt><dd>m/s</dd><dt><span>grid :</span></dt><dd>grid</dd><dt><span>location :</span></dt><dd>face</dd></dl></div><div class='xr-var-data'><pre>[7471872 values with dtype=float32]</pre></div></li><li class='xr-var-item'><div class='xr-var-name'><span>WPHY</span></div><div class='xr-var-dims'>(run_number, time, KMAXOUT_RESTR, M, N)</div><div class='xr-var-dtype'>float32</div><div class='xr-var-preview xr-preview'>...</div><input id='attrs-85cf383b-90ce-4ab6-845e-5a97c94b2e13' class='xr-var-attrs-in' type='checkbox' ><label for='attrs-85cf383b-90ce-4ab6-845e-5a97c94b2e13' title='Show/Hide attributes'><svg class='icon xr-icon-file-text2'><use xlink:href='#icon-file-text2'></use></svg></label><input id='data-a0b0517f-fdb0-4496-a12d-9b8a4da7030c' class='xr-var-data-in' type='checkbox'><label for='data-a0b0517f-fdb0-4496-a12d-9b8a4da7030c' title='Show/Hide data repr'><svg class='icon xr-icon-database'><use xlink:href='#icon-database'></use></svg></label><div class='xr-var-attrs'><dl class='xr-attrs'><dt><span>long_name :</span></dt><dd>W-velocity per layer in zeta point</dd><dt><span>units :</span></dt><dd>m/s</dd><dt><span>grid :</span></dt><dd>grid</dd><dt><span>location :</span></dt><dd>face</dd></dl></div><div class='xr-var-data'><pre>[6226560 values with dtype=float32]</pre></div></li><li class='xr-var-item'><div class='xr-var-name'><span>grid</span></div><div class='xr-var-dims'>(run_number)</div><div class='xr-var-dtype'>int32</div><div class='xr-var-preview xr-preview'>...</div><input id='attrs-645da5bb-0962-41c0-ba09-f562ab6fbdc5' class='xr-var-attrs-in' type='checkbox' ><label for='attrs-645da5bb-0962-41c0-ba09-f562ab6fbdc5' title='Show/Hide attributes'><svg class='icon xr-icon-file-text2'><use xlink:href='#icon-file-text2'></use></svg></label><input id='data-2c1ba4eb-00f2-47ba-a21f-7e108131dfe2' class='xr-var-data-in' type='checkbox'><label for='data-2c1ba4eb-00f2-47ba-a21f-7e108131dfe2' title='Show/Hide data repr'><svg class='icon xr-icon-database'><use xlink:href='#icon-database'></use></svg></label><div class='xr-var-attrs'><dl class='xr-attrs'><dt><span>units :</span></dt><dd>1</dd><dt><span>cf_role :</span></dt><dd>grid_topology</dd><dt><span>topology_dimension :</span></dt><dd>2</dd><dt><span>node_dimensions :</span></dt><dd>MC NC</dd><dt><span>face_dimensions :</span></dt><dd>M:MC (padding: low) N:NC (padding: low)</dd><dt><span>face_coordinates :</span></dt><dd>XZ YZ</dd><dt><span>node_coordinates :</span></dt><dd>XCOR YCOR</dd><dt><span>vertical_dimensions :</span></dt><dd>SIG_LYR:SIG_INTF (padding: none)</dd></dl></div><div class='xr-var-data'><pre>[23 values with dtype=int32]</pre></div></li></ul></div></li><li class='xr-section-item'><input id='section-2e98c869-88d5-4396-aba6-ec900f36b460' class='xr-section-summary-in' type='checkbox'  ><label for='section-2e98c869-88d5-4396-aba6-ec900f36b460' class='xr-section-summary' >Indexes: <span>(5)</span></label><div class='xr-section-inline-details'></div><div class='xr-section-details'><ul class='xr-var-list'><li class='xr-var-item'><div class='xr-index-name'><div>KMAXOUT</div></div><div class='xr-index-preview'>PandasIndex</div><div></div><input id='index-a9048a0e-252b-432f-89a2-177aa1121597' class='xr-index-data-in' type='checkbox'/><label for='index-a9048a0e-252b-432f-89a2-177aa1121597' title='Show/Hide index repr'><svg class='icon xr-icon-database'><use xlink:href='#icon-database'></use></svg></label><div class='xr-index-data'><pre>PandasIndex(Int64Index([0, 1, 2, 3, 4, 5], dtype=&#x27;int64&#x27;, name=&#x27;KMAXOUT&#x27;))</pre></div></li><li class='xr-var-item'><div class='xr-index-name'><div>KMAXOUT_RESTR</div></div><div class='xr-index-preview'>PandasIndex</div><div></div><input id='index-c07a3387-54cc-4141-9a67-26b011fa349d' class='xr-index-data-in' type='checkbox'/><label for='index-c07a3387-54cc-4141-9a67-26b011fa349d' title='Show/Hide index repr'><svg class='icon xr-icon-database'><use xlink:href='#icon-database'></use></svg></label><div class='xr-index-data'><pre>PandasIndex(Int64Index([0, 1, 2, 3, 4], dtype=&#x27;int64&#x27;, name=&#x27;KMAXOUT_RESTR&#x27;))</pre></div></li><li class='xr-var-item'><div class='xr-index-name'><div>SIG_INTF</div></div><div class='xr-index-preview'>PandasIndex</div><div></div><input id='index-6d416c73-6eab-4c40-9214-8be32fc54d61' class='xr-index-data-in' type='checkbox'/><label for='index-6d416c73-6eab-4c40-9214-8be32fc54d61' title='Show/Hide index repr'><svg class='icon xr-icon-database'><use xlink:href='#icon-database'></use></svg></label><div class='xr-index-data'><pre>PandasIndex(Float64Index([                  0.0, -0.004999999888241291,\n",
       "               -0.05000000074505806,  -0.20000000298023224,\n",
       "                -0.6000000238418579,                  -1.0],\n",
       "             dtype=&#x27;float64&#x27;, name=&#x27;SIG_INTF&#x27;))</pre></div></li><li class='xr-var-item'><div class='xr-index-name'><div>SIG_LYR</div></div><div class='xr-index-preview'>PandasIndex</div><div></div><input id='index-d2daae66-0e0e-4d93-bb41-8bc26c11231c' class='xr-index-data-in' type='checkbox'/><label for='index-d2daae66-0e0e-4d93-bb41-8bc26c11231c' title='Show/Hide index repr'><svg class='icon xr-icon-database'><use xlink:href='#icon-database'></use></svg></label><div class='xr-index-data'><pre>PandasIndex(Float64Index([-0.0024999999441206455,  -0.027499999850988388,\n",
       "                              -0.125,    -0.4000000059604645,\n",
       "                  -0.800000011920929],\n",
       "             dtype=&#x27;float64&#x27;, name=&#x27;SIG_LYR&#x27;))</pre></div></li><li class='xr-var-item'><div class='xr-index-name'><div>time</div></div><div class='xr-index-preview'>PandasIndex</div><div></div><input id='index-90edcacc-a441-4c62-8a0f-5ab47bcb5b22' class='xr-index-data-in' type='checkbox'/><label for='index-90edcacc-a441-4c62-8a0f-5ab47bcb5b22' title='Show/Hide index repr'><svg class='icon xr-icon-database'><use xlink:href='#icon-database'></use></svg></label><div class='xr-index-data'><pre>PandasIndex(DatetimeIndex([&#x27;2009-10-03&#x27;], dtype=&#x27;datetime64[ns]&#x27;, name=&#x27;time&#x27;, freq=None))</pre></div></li></ul></div></li><li class='xr-section-item'><input id='section-24d884e9-d4f0-4f11-a56f-46444dc3074b' class='xr-section-summary-in' type='checkbox'  checked><label for='section-24d884e9-d4f0-4f11-a56f-46444dc3074b' class='xr-section-summary' >Attributes: <span>(7)</span></label><div class='xr-section-inline-details'></div><div class='xr-section-details'><dl class='xr-attrs'><dt><span>Conventions :</span></dt><dd>CF-1.6</dd><dt><span>institution :</span></dt><dd>Deltares</dd><dt><span>references :</span></dt><dd>www.deltares.nl</dd><dt><span>source :</span></dt><dd>Deltares, FLOW2D3D Version 6.02.07.6891, Aug 15 2017, 10:42:01</dd><dt><span>history :</span></dt><dd>Thu Jun 20 11:38:47 2019: ncecat -n 23,3,1 -u run_number -O last_trim-sets_flow_inset_001.nc trim_sets_flow_inset_allruns.nc\n",
       "Thu Jun 20 11:34:23 2019: ncks -O -C -d time,-1 ./trim-sets_flow_inset_001.nc last_trim-sets_flow_inset_001.nc\n",
       "This file is created on 2019-05-29T14:25:12-0700, Delft3D</dd><dt><span>NCO :</span></dt><dd>&quot;4.5.4&quot;</dd><dt><span>nco_openmp_thread_number :</span></dt><dd>1</dd></dl></div></li></ul></div></div>"
      ],
      "text/plain": [
       "<xarray.Dataset>\n",
       "Dimensions:        (run_number: 23, M: 282, N: 192, time: 1, KMAXOUT: 6,\n",
       "                    MC: 282, NC: 192, KMAXOUT_RESTR: 5, LSTSCI: 2, LTUR: 2,\n",
       "                    SIG_INTF: 6, SIG_LYR: 5)\n",
       "Coordinates:\n",
       "  * KMAXOUT        (KMAXOUT) int32 0 1 2 3 4 5\n",
       "  * KMAXOUT_RESTR  (KMAXOUT_RESTR) int32 0 1 2 3 4\n",
       "  * SIG_INTF       (SIG_INTF) float32 0.0 -0.005 -0.05 -0.2 -0.6 -1.0\n",
       "  * SIG_LYR        (SIG_LYR) float32 -0.0025 -0.0275 -0.125 -0.4 -0.8\n",
       "    XCOR           (MC, NC) float32 ...\n",
       "    XZ             (M, N) float32 ...\n",
       "    YCOR           (MC, NC) float32 ...\n",
       "    YZ             (M, N) float32 ...\n",
       "  * time           (time) datetime64[ns] 2009-10-03\n",
       "Dimensions without coordinates: run_number, M, N, MC, NC, LSTSCI, LTUR\n",
       "Data variables: (12/32)\n",
       "    ALFAS          (run_number, M, N) float32 ...\n",
       "    DICWW          (run_number, time, KMAXOUT, M, N) float32 ...\n",
       "    DP0            (run_number, MC, NC) float32 ...\n",
       "    DPS0           (run_number, M, N) float32 ...\n",
       "    DPU0           (run_number, MC, N) float32 ...\n",
       "    DPV0           (run_number, M, NC) float32 ...\n",
       "    ...             ...\n",
       "    VICUV          (run_number, time, KMAXOUT_RESTR, M, N) float32 ...\n",
       "    VICWW          (run_number, time, KMAXOUT, M, N) float32 ...\n",
       "    VMNLDF         (run_number, time, M, NC) float32 ...\n",
       "    W              (run_number, time, KMAXOUT, M, N) float32 ...\n",
       "    WPHY           (run_number, time, KMAXOUT_RESTR, M, N) float32 ...\n",
       "    grid           (run_number) int32 ...\n",
       "Attributes:\n",
       "    Conventions:               CF-1.6\n",
       "    institution:               Deltares\n",
       "    references:                www.deltares.nl\n",
       "    source:                    Deltares, FLOW2D3D Version 6.02.07.6891, Aug 1...\n",
       "    history:                   Thu Jun 20 11:38:47 2019: ncecat -n 23,3,1 -u ...\n",
       "    NCO:                       \"4.5.4\"\n",
       "    nco_openmp_thread_number:  1"
      ]
     },
     "execution_count": 47,
     "metadata": {},
     "output_type": "execute_result"
    }
   ],
   "source": [
    "ds_dev_present= xr.open_dataset(dev_present_file)\n",
    "ds_dev_present"
   ]
  },
  {
   "cell_type": "code",
   "execution_count": 2,
   "metadata": {},
   "outputs": [],
   "source": [
    "receptor_filename = r\"H:\\Projects\\C1308_SEAT\\SEAT_inputs\\plugin-input\\oregon\\receptor\\grainsize_receptor.tif\"\n",
    "dev_present_file = r\"H:\\Projects\\C1308_SEAT\\SEAT_inputs\\plugin-input\\oregon\\devices-present\\trim_sets_flow_inset_allruns.nc\"\n",
    "file_dev_present = Dataset(dev_present_file)\n",
    "xcor = file_dev_present.variables[\"XCOR\"][:].data\n",
    "# Y-coordinate of cell center\n",
    "ycor = file_dev_present.variables[\"YCOR\"][:].data\n",
    "data_dev = file_dev_present.variables['TAUMAX'][:]\n",
    "TAUMAX = np.squeeze(data_dev[0,:])"
   ]
  },
  {
   "cell_type": "code",
   "execution_count": 3,
   "metadata": {},
   "outputs": [
    {
     "data": {
      "text/plain": [
       "(23, 1, 282, 192)"
      ]
     },
     "execution_count": 3,
     "metadata": {},
     "output_type": "execute_result"
    }
   ],
   "source": [
    "data_dev = file_dev_present.variables['TAUMAX'][:]  \n",
    "data_dev.shape\n"
   ]
  },
  {
   "cell_type": "code",
   "execution_count": 4,
   "metadata": {},
   "outputs": [
    {
     "data": {
      "text/plain": [
       "(23, 1, 282, 192)"
      ]
     },
     "execution_count": 4,
     "metadata": {},
     "output_type": "execute_result"
    }
   ],
   "source": [
    "data_dev = np.flip(data_dev, axis=3)\n",
    "data_dev.shape"
   ]
  },
  {
   "cell_type": "code",
   "execution_count": null,
   "metadata": {},
   "outputs": [],
   "source": []
  },
  {
   "cell_type": "code",
   "execution_count": null,
   "metadata": {},
   "outputs": [],
   "source": [
    "import os\n",
    "path = 'C:\\Test\\director\\this one'\n",
    "os.path.dirname(path)"
   ]
  },
  {
   "cell_type": "code",
   "execution_count": 5,
   "metadata": {},
   "outputs": [
    {
     "data": {
      "text/plain": [
       "(282, 192)"
      ]
     },
     "execution_count": 5,
     "metadata": {},
     "output_type": "execute_result"
    }
   ],
   "source": [
    "TAUMAX.shape"
   ]
  },
  {
   "cell_type": "code",
   "execution_count": 6,
   "metadata": {},
   "outputs": [],
   "source": [
    "data = gdal.Open(receptor_filename)\n",
    "img = data.GetRasterBand(1)\n",
    "receptor_array = img.ReadAsArray()\n"
   ]
  },
  {
   "cell_type": "code",
   "execution_count": 49,
   "metadata": {},
   "outputs": [
    {
     "data": {
      "text/plain": [
       "array([0.0000000e+00, 4.9999999e-05, 1.4999999e-04, 2.9999999e-04,\n",
       "       4.9999999e-03], dtype=float32)"
      ]
     },
     "execution_count": 49,
     "metadata": {},
     "output_type": "execute_result"
    }
   ],
   "source": [
    "np.unique(receptor_array) * 1e-6"
   ]
  },
  {
   "cell_type": "code",
   "execution_count": 7,
   "metadata": {},
   "outputs": [
    {
     "data": {
      "text/plain": [
       "(192, 282)"
      ]
     },
     "execution_count": 7,
     "metadata": {},
     "output_type": "execute_result"
    }
   ],
   "source": [
    "receptor_array.shape"
   ]
  },
  {
   "cell_type": "code",
   "execution_count": 8,
   "metadata": {},
   "outputs": [],
   "source": [
    "\n",
    "# transpose to be in same orientation as NetCDF\n",
    "# receptor_array = np.transpose(receptor_array)\n",
    "receptor_array[receptor_array < 0] = 0\n"
   ]
  },
  {
   "cell_type": "code",
   "execution_count": 9,
   "metadata": {},
   "outputs": [
    {
     "data": {
      "text/plain": [
       "(192, 282)"
      ]
     },
     "execution_count": 9,
     "metadata": {},
     "output_type": "execute_result"
    }
   ],
   "source": [
    "receptor_array.shape"
   ]
  },
  {
   "cell_type": "code",
   "execution_count": 10,
   "metadata": {},
   "outputs": [],
   "source": [
    "(upper_left_x, x_size, x_rotation, upper_left_y, y_rotation, y_size) = data.GetGeoTransform()\n",
    "cols = data.RasterXSize\n",
    "rows = data.RasterYSize"
   ]
  },
  {
   "cell_type": "code",
   "execution_count": 11,
   "metadata": {},
   "outputs": [
    {
     "data": {
      "text/plain": [
       "(192, 282)"
      ]
     },
     "execution_count": 11,
     "metadata": {},
     "output_type": "execute_result"
    }
   ],
   "source": [
    "np.shape(receptor_array)"
   ]
  },
  {
   "cell_type": "code",
   "execution_count": 12,
   "metadata": {},
   "outputs": [
    {
     "data": {
      "text/plain": [
       "array([44.671, 44.67 , 44.669, 44.668, 44.667, 44.666, 44.665, 44.664,\n",
       "       44.663, 44.662, 44.661, 44.66 , 44.659, 44.658, 44.657, 44.656,\n",
       "       44.655, 44.654, 44.653, 44.652, 44.651, 44.65 , 44.649, 44.648,\n",
       "       44.647, 44.646, 44.645, 44.644, 44.643, 44.642, 44.641, 44.64 ,\n",
       "       44.639, 44.638, 44.637, 44.636, 44.635, 44.634, 44.633, 44.632,\n",
       "       44.631, 44.63 , 44.629, 44.628, 44.627, 44.626, 44.625, 44.624,\n",
       "       44.623, 44.622, 44.621, 44.62 , 44.619, 44.618, 44.617, 44.616,\n",
       "       44.615, 44.614, 44.613, 44.612, 44.611, 44.61 , 44.609, 44.608,\n",
       "       44.607, 44.606, 44.605, 44.604, 44.603, 44.602, 44.601, 44.6  ,\n",
       "       44.599, 44.598, 44.597, 44.596, 44.595, 44.594, 44.593, 44.592,\n",
       "       44.591, 44.59 , 44.589, 44.588, 44.587, 44.586, 44.585, 44.584,\n",
       "       44.583, 44.582, 44.581, 44.58 , 44.579, 44.578, 44.577, 44.576,\n",
       "       44.575, 44.574, 44.573, 44.572, 44.571, 44.57 , 44.569, 44.568,\n",
       "       44.567, 44.566, 44.565, 44.564, 44.563, 44.562, 44.561, 44.56 ,\n",
       "       44.559, 44.558, 44.557, 44.556, 44.555, 44.554, 44.553, 44.552,\n",
       "       44.551, 44.55 , 44.549, 44.548, 44.547, 44.546, 44.545, 44.544,\n",
       "       44.543, 44.542, 44.541, 44.54 , 44.539, 44.538, 44.537, 44.536,\n",
       "       44.535, 44.534, 44.533, 44.532, 44.531, 44.53 , 44.529, 44.528,\n",
       "       44.527, 44.526, 44.525, 44.524, 44.523, 44.522, 44.521, 44.52 ,\n",
       "       44.519, 44.518, 44.517, 44.516, 44.515, 44.514, 44.513, 44.512,\n",
       "       44.511, 44.51 , 44.509, 44.508, 44.507, 44.506, 44.505, 44.504,\n",
       "       44.503, 44.502, 44.501, 44.5  , 44.499, 44.498, 44.497, 44.496,\n",
       "       44.495, 44.494, 44.493, 44.492, 44.491, 44.49 , 44.489, 44.488,\n",
       "       44.487, 44.486, 44.485, 44.484, 44.483, 44.482, 44.481, 44.48 ])"
      ]
     },
     "execution_count": 12,
     "metadata": {},
     "output_type": "execute_result"
    }
   ],
   "source": [
    "r_rows = np.arange(rows) * y_size + upper_left_y + (y_size / 2)\n",
    "r_rows"
   ]
  },
  {
   "cell_type": "code",
   "execution_count": 13,
   "metadata": {},
   "outputs": [
    {
     "data": {
      "text/plain": [
       "array([235.71601, 235.71681, 235.71761, 235.71841, 235.71921, 235.72001,\n",
       "       235.72081, 235.72161, 235.72241, 235.72321, 235.72401, 235.72481,\n",
       "       235.72561, 235.72641, 235.72721, 235.72801, 235.72881, 235.72961,\n",
       "       235.73041, 235.73121, 235.73201, 235.73281, 235.73361, 235.73441,\n",
       "       235.73521, 235.73601, 235.73681, 235.73761, 235.73841, 235.73921,\n",
       "       235.74001, 235.74081, 235.74161, 235.74241, 235.74321, 235.74401,\n",
       "       235.74481, 235.74561, 235.74641, 235.74721, 235.74801, 235.74881,\n",
       "       235.74961, 235.75041, 235.75121, 235.75201, 235.75281, 235.75361,\n",
       "       235.75441, 235.75521, 235.75601, 235.75681, 235.75761, 235.75841,\n",
       "       235.75921, 235.76001, 235.76081, 235.76161, 235.76241, 235.76321,\n",
       "       235.76401, 235.76481, 235.76561, 235.76641, 235.76721, 235.76801,\n",
       "       235.76881, 235.76961, 235.77041, 235.77121, 235.77201, 235.77281,\n",
       "       235.77361, 235.77441, 235.77521, 235.77601, 235.77681, 235.77761,\n",
       "       235.77841, 235.77921, 235.78001, 235.78081, 235.78161, 235.78241,\n",
       "       235.78321, 235.78401, 235.78481, 235.78561, 235.78641, 235.78721,\n",
       "       235.78801, 235.78881, 235.78961, 235.79041, 235.79121, 235.79201,\n",
       "       235.79281, 235.79361, 235.79441, 235.79521, 235.79601, 235.79681,\n",
       "       235.79761, 235.79841, 235.79921, 235.80001, 235.80081, 235.80161,\n",
       "       235.80241, 235.80321, 235.80401, 235.80481, 235.80561, 235.80641,\n",
       "       235.80721, 235.80801, 235.80881, 235.80961, 235.81041, 235.81121,\n",
       "       235.81201, 235.81281, 235.81361, 235.81441, 235.81521, 235.81601,\n",
       "       235.81681, 235.81761, 235.81841, 235.81921, 235.82001, 235.82081,\n",
       "       235.82161, 235.82241, 235.82321, 235.82401, 235.82481, 235.82561,\n",
       "       235.82641, 235.82721, 235.82801, 235.82881, 235.82961, 235.83041,\n",
       "       235.83121, 235.83201, 235.83281, 235.83361, 235.83441, 235.83521,\n",
       "       235.83601, 235.83681, 235.83761, 235.83841, 235.83921, 235.84001,\n",
       "       235.84081, 235.84161, 235.84241, 235.84321, 235.84401, 235.84481,\n",
       "       235.84561, 235.84641, 235.84721, 235.84801, 235.84881, 235.84961,\n",
       "       235.85041, 235.85121, 235.85201, 235.85281, 235.85361, 235.85441,\n",
       "       235.85521, 235.85601, 235.85681, 235.85761, 235.85841, 235.85921,\n",
       "       235.86001, 235.86081, 235.86161, 235.86241, 235.86321, 235.86401,\n",
       "       235.86481, 235.86561, 235.86641, 235.86721, 235.86801, 235.86881,\n",
       "       235.86961, 235.87041, 235.87121, 235.87201, 235.87281, 235.87361,\n",
       "       235.87441, 235.87521, 235.87601, 235.87681, 235.87761, 235.87841,\n",
       "       235.87921, 235.88001, 235.88081, 235.88161, 235.88241, 235.88321,\n",
       "       235.88401, 235.88481, 235.88561, 235.88641, 235.88721, 235.88801,\n",
       "       235.88881, 235.88961, 235.89041, 235.89121, 235.89201, 235.89281,\n",
       "       235.89361, 235.89441, 235.89521, 235.89601, 235.89681, 235.89761,\n",
       "       235.89841, 235.89921, 235.90001, 235.90081, 235.90161, 235.90241,\n",
       "       235.90321, 235.90401, 235.90481, 235.90561, 235.90641, 235.90721,\n",
       "       235.90801, 235.90881, 235.90961, 235.91041, 235.91121, 235.91201,\n",
       "       235.91281, 235.91361, 235.91441, 235.91521, 235.91601, 235.91681,\n",
       "       235.91761, 235.91841, 235.91921, 235.92001, 235.92081, 235.92161,\n",
       "       235.92241, 235.92321, 235.92401, 235.92481, 235.92561, 235.92641,\n",
       "       235.92721, 235.92801, 235.92881, 235.92961, 235.93041, 235.93121,\n",
       "       235.93201, 235.93281, 235.93361, 235.93441, 235.93521, 235.93601,\n",
       "       235.93681, 235.93761, 235.93841, 235.93921, 235.94001, 235.94081])"
      ]
     },
     "execution_count": 13,
     "metadata": {},
     "output_type": "execute_result"
    }
   ],
   "source": [
    "r_cols = np.arange(cols) * x_size + upper_left_x + (x_size / 2)\n",
    "r_cols = np.where(r_cols<0, r_cols+360, r_cols)\n",
    "r_cols"
   ]
  },
  {
   "cell_type": "code",
   "execution_count": 20,
   "metadata": {},
   "outputs": [],
   "source": [
    "# xnew = x[0:-1:2]\n",
    "# ynew = y[0:-1:2]\n",
    "# xp,yp = np.meshgrid(ynew, xnew)\n",
    "\n",
    "x_grid, y_grid = np.meshgrid(r_cols, r_rows)"
   ]
  },
  {
   "cell_type": "code",
   "execution_count": 21,
   "metadata": {},
   "outputs": [
    {
     "data": {
      "text/plain": [
       "(192, 282)"
      ]
     },
     "execution_count": 21,
     "metadata": {},
     "output_type": "execute_result"
    }
   ],
   "source": [
    "receptor_array.shape"
   ]
  },
  {
   "cell_type": "code",
   "execution_count": 22,
   "metadata": {},
   "outputs": [
    {
     "data": {
      "text/plain": [
       "(192, 282)"
      ]
     },
     "execution_count": 22,
     "metadata": {},
     "output_type": "execute_result"
    }
   ],
   "source": [
    "x_grid.shape"
   ]
  },
  {
   "cell_type": "code",
   "execution_count": 32,
   "metadata": {},
   "outputs": [],
   "source": [
    "\n",
    "z = griddata((x_grid.flatten(), y_grid.flatten()), receptor_array.flatten(), (xcor,ycor), method='nearest', fill_value=0)\n",
    "# interp = RegularGridInterpolator((x, y), receptor_array)"
   ]
  },
  {
   "cell_type": "code",
   "execution_count": 34,
   "metadata": {},
   "outputs": [
    {
     "data": {
      "text/plain": [
       "<matplotlib.collections.QuadMesh at 0x235f9076b60>"
      ]
     },
     "execution_count": 34,
     "metadata": {},
     "output_type": "execute_result"
    },
    {
     "data": {
      "image/png": "[encoded data removed]",
      "text/plain": [
       "<Figure size 640x480 with 3 Axes>"
      ]
     },
     "metadata": {},
     "output_type": "display_data"
    }
   ],
   "source": [
    "\n",
    "fig,ax = plt.subplots(ncols=3)\n",
    "ax[0].pcolormesh(r_cols, r_rows, np.where(receptor_array==0, np.nan, receptor_array))\n",
    "# ax[1].pcolormesh(xcor, ycor, z)\n",
    "ax[1].pcolormesh(xcor, ycor, np.where(z==0, np.nan, z))\n",
    "ax[2].pcolormesh(xcor, ycor, np.where(TAUMAX==0, np.nan, TAUMAX))"
   ]
  },
  {
   "cell_type": "code",
   "execution_count": 40,
   "metadata": {},
   "outputs": [],
   "source": [
    "ra = np.where(receptor_array==0, np.nan, receptor_array)"
   ]
  },
  {
   "cell_type": "code",
   "execution_count": 44,
   "metadata": {},
   "outputs": [
    {
     "data": {
      "text/plain": [
       "array([  50.,  150.,  300., 5000.,   nan], dtype=float32)"
      ]
     },
     "execution_count": 44,
     "metadata": {},
     "output_type": "execute_result"
    }
   ],
   "source": [
    "np.unique(ra)"
   ]
  },
  {
   "cell_type": "code",
   "execution_count": 45,
   "metadata": {},
   "outputs": [
    {
     "data": {
      "text/plain": [
       "array([  50.,  150.,  300., 5000.], dtype=float32)"
      ]
     },
     "execution_count": 45,
     "metadata": {},
     "output_type": "execute_result"
    }
   ],
   "source": [
    "np.array()"
   ]
  }
 ],
 "metadata": {
  "kernelspec": {
   "display_name": "Python 3",
   "language": "python",
   "name": "python3"
  },
  "language_info": {
   "codemirror_mode": {
    "name": "ipython",
    "version": 3
   },
   "file_extension": ".py",
   "mimetype": "text/x-python",
   "name": "python",
   "nbconvert_exporter": "python",
   "pygments_lexer": "ipython3",
   "version": "3.10.6"
  },
  "orig_nbformat": 4
 },
 "nbformat": 4,
 "nbformat_minor": 2
}
