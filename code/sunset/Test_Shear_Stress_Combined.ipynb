{
 "cells": [
  {
   "cell_type": "code",
   "execution_count": 85,
   "metadata": {},
   "outputs": [],
   "source": [
    "import glob\n",
    "import os\n",
    "\n",
    "import numpy as np\n",
    "import pandas as pd\n",
    "from matplotlib.tri import LinearTriInterpolator, TriAnalyzer, Triangulation\n",
    "from scipy.interpolate import griddata\n",
    "from netCDF4 import Dataset\n",
    "from osgeo import gdal, osr"
   ]
  },
  {
   "cell_type": "code",
   "execution_count": 86,
   "metadata": {},
   "outputs": [],
   "source": [
    "def critical_shear_stress(D_meters, rhow=1024, nu=1e-6, s=2.65, g=9.81):\n",
    "    # D_meters = grain size in meters, can be array\n",
    "    # rhow = density of water in kg/m3\n",
    "    # nu = kinematic viscosity of water\n",
    "    # s = specific gravity of sediment\n",
    "    # g = acceleratin due to gravity\n",
    "    Dstar = ((g * (s-1))/ nu**2)**(1/3) * D_meters\n",
    "    SHcr = (0.3/(1+1.2*Dstar)) + 0.055*(1-np.exp(-0.02 * Dstar))\n",
    "    taucrit = rhow * (s - 1) * g * D_meters * SHcr #in Pascals\n",
    "    return taucrit\n",
    "\n",
    "def calculate_receptor_change_percentage(receptor_array, data_diff):\n",
    "    #gdal version\n",
    "    # data_diff = np.transpose(data_diff)\n",
    "    # data = gdal.Open(receptor_filename)\n",
    "    # img = data.GetRasterBand(1)\n",
    "    # receptor_array = img.ReadAsArray()\n",
    "    # transpose to be in same orientation as NetCDF\n",
    "    receptor_array[receptor_array < 0] = np.nan\n",
    "\n",
    "    pct_mobility = {'Receptor_Value': [],\n",
    "                        'Increased Deposition': [],\n",
    "                        'Reduced Deposition': [],\n",
    "                        'Reduced Erosion': [],\n",
    "                        'Increased Erosion': [],\n",
    "                        'No Change':[]}\n",
    "    \n",
    "    for unique_val in [i for i in np.unique(receptor_array) if ~np.isnan(i)]:\n",
    "        mask = receptor_array==unique_val\n",
    "        data_at_val = np.where(mask, data_diff, np.nan)\n",
    "        data_at_val = data_at_val.flatten()\n",
    "        data_at_val = data_at_val[~np.isnan(data_at_val)]\n",
    "        ncells = data_at_val.size\n",
    "        pct_mobility['Receptor_Value'].append(unique_val)\n",
    "        pct_mobility['Increased Deposition'].append(100 * np.size(np.flatnonzero(data_at_val==-2))/ncells)\n",
    "        pct_mobility['Reduced Deposition'].append(100 * np.size(np.flatnonzero(data_at_val==-1))/ncells)\n",
    "        pct_mobility['Reduced Erosion'].append(100 * np.size(np.flatnonzero(data_at_val==1))/ncells)\n",
    "        pct_mobility['Increased Erosion'].append(100 * np.size(np.flatnonzero(data_at_val==2))/ncells)\n",
    "        pct_mobility['No Change'].append(100 * np.size(np.flatnonzero(data_at_val==0))/ncells)\n",
    "\n",
    "        # print(f\" Receptor Value = {unique_val}um | decrease = {pct_decrease}% | increase = {pct_increase}% | no change = {pct_nochange}%\")\n",
    "    DF = pd.DataFrame(pct_mobility)\n",
    "    DF = DF.set_index('Receptor_Value')\n",
    "    return DF\n",
    "    # DF.to_csv(os.path.join(ofpath, 'receptor_percent_change.csv'))\n",
    "\n",
    "def estimate_grid_spacing(x,y, nsamples=100):\n",
    "    import random\n",
    "    import sys\n",
    "    coords = list(set(zip(x,y)))\n",
    "    if nsamples != len(x):\n",
    "        points = [random.choice(coords) for i in range(nsamples)] # pick N random points\n",
    "    else:\n",
    "        points = coords\n",
    "    MD = []\n",
    "    for p0x, p0y in points:\n",
    "        minimum_distance = sys.maxsize\n",
    "        for px, py in coords:\n",
    "            distance = np.sqrt((p0x - px) ** 2 + (p0y - py) ** 2)\n",
    "            if (distance < minimum_distance) & (distance !=0):\n",
    "                minimum_distance = distance\n",
    "        MD.append(minimum_distance)\n",
    "    dxdy = np.median(MD)\n",
    "    return dxdy\n",
    "\n",
    "\n",
    "def calc_receptor_taucrit(receptor_filename, x, y, latlon=False):\n",
    "    # if ((receptor_filename is not None) or (not receptor_filename == \"\")):\n",
    "    if not((receptor_filename is None) or (receptor_filename == \"\")):\n",
    "        data = gdal.Open(receptor_filename)\n",
    "        img = data.GetRasterBand(1)\n",
    "        receptor_array = img.ReadAsArray()\n",
    "        receptor_array[receptor_array < 0] = 0\n",
    "        (upper_left_x, x_size, x_rotation, upper_left_y, y_rotation, y_size) = data.GetGeoTransform()\n",
    "        cols = data.RasterXSize\n",
    "        rows = data.RasterYSize\n",
    "        r_rows = np.arange(rows) * y_size + upper_left_y + (y_size / 2)\n",
    "        r_cols = np.arange(cols) * x_size + upper_left_x + (x_size / 2)\n",
    "        if latlon==True:\n",
    "            r_cols = np.where(r_cols<0, r_cols+360, r_cols)\n",
    "        x_grid, y_grid = np.meshgrid(r_cols, r_rows)\n",
    "        receptor_array = griddata((x_grid.flatten(), y_grid.flatten()), receptor_array.flatten(), (x,y), method='nearest', fill_value=0)\n",
    "\n",
    "        taucrit = critical_shear_stress(D_meters=receptor_array * 1e-6,\n",
    "                            rhow=1024,\n",
    "                            nu=1e-6,\n",
    "                            s=2.65,\n",
    "                            g=9.81) #units N/m2 = Pa\n",
    "    else:\n",
    "        # taucrit without a receptor\n",
    "        #Assume the following grain sizes and conditions for typical beach sand (Nielsen, 1992 p.108)\n",
    "        taucrit = critical_shear_stress(D_meters=200*1e-6, rhow=1024, nu=1e-6, s=2.65, g=9.81)  #units N/m2 = Pa\n",
    "        receptor_array = 200*1e-6 * np.ones(x.shape)\n",
    "    return taucrit, receptor_array\n",
    "\n",
    "def create_structured_array_from_unstructured(x, y, z, dxdy, flatness=0.2):\n",
    "    # flatness is from 0-.5 .5 is equilateral triangle\n",
    "    refx = np.arange(np.nanmin(x), np.nanmax(x)+dxdy, dxdy)\n",
    "    refy = np.arange(np.nanmin(y), np.nanmax(y)+dxdy, dxdy)\n",
    "    refxg, refyg = np.meshgrid(refx, refy)\n",
    "    tri = Triangulation(x, y)\n",
    "    mask = TriAnalyzer(tri).get_flat_tri_mask(flatness)\n",
    "    tri.set_mask(mask)\n",
    "    tli = LinearTriInterpolator(tri, z)\n",
    "    z_interp = tli(refxg, refyg)\n",
    "    return refxg, refyg, z_interp.data\n",
    "\n",
    "def classify_mobility(mobility_parameter_dev, mobility_parameter_nodev):\n",
    "    mobility_classification = np.zeros(mobility_parameter_dev.shape)\n",
    "    #Reduced Erosion (Tw<Tb) & (Tw-Tb)>1\n",
    "    mobility_classification = np.where(((mobility_parameter_dev < mobility_parameter_nodev) & (mobility_parameter_nodev>=1)), 1, mobility_classification)\n",
    "    #Increased Erosion (Tw>Tb) & (Tw-Tb)>1\n",
    "    mobility_classification = np.where(((mobility_parameter_dev > mobility_parameter_nodev) & (mobility_parameter_nodev>=1)), 2, mobility_classification)\n",
    "    #Reduced Deposition (Tw>Tb) & (Tw-Tb)<1\n",
    "    mobility_classification = np.where(((mobility_parameter_dev > mobility_parameter_nodev) & (mobility_parameter_nodev<1)), -1, mobility_classification)\n",
    "    #Increased Deposition (Tw>Tb) & (Tw-Tb)>1\n",
    "    mobility_classification = np.where(((mobility_parameter_dev < mobility_parameter_nodev) & (mobility_parameter_nodev<1)), -2, mobility_classification)\n",
    "    #NoChange = 0\n",
    "    return mobility_classification\n",
    "\n",
    "def check_grid_define_vars(dataset):\n",
    "    vars = list(dataset.variables)\n",
    "    if 'XCOR' in vars:\n",
    "        gridtype = 'structured'\n",
    "        xvar = 'XCOR'\n",
    "        yvar = 'YCOR'\n",
    "        tauvar = 'TAUMAX'\n",
    "    else:\n",
    "        gridtype = 'unstructured'\n",
    "        xvar = 'FlowElem_xcc'\n",
    "        yvar = 'FlowElem_ycc'\n",
    "        tauvar = 'taus'\n",
    "    return gridtype, xvar, yvar, tauvar"
   ]
  },
  {
   "cell_type": "code",
   "execution_count": 87,
   "metadata": {},
   "outputs": [],
   "source": [
    "# fpath_nodev = \"H:/Projects/C1308_SEAT/SEAT_inputs/plugin-input/DEMO unstructured/tanana_nodev\"\n",
    "# fpath_dev = \"H:/Projects/C1308_SEAT/SEAT_inputs/plugin-input/DEMO unstructured/tanana_dev_9\"\n",
    "# probabilities_file =\"\"\n",
    "# receptor_filename=\"\"\n",
    "# latlon=False\n",
    "# value_selection='MAX'\n"
   ]
  },
  {
   "cell_type": "code",
   "execution_count": 88,
   "metadata": {},
   "outputs": [],
   "source": [
    "fpath_nodev = r\"H:\\Projects\\C1308_SEAT\\SEAT_inputs\\plugin-input\\DEMO structured\\devices-not-present\"\n",
    "fpath_dev = r\"H:\\Projects\\C1308_SEAT\\SEAT_inputs\\plugin-input\\DEMO structured\\devices-present\"\n",
    "probabilities_file = r\"H:\\Projects\\C1308_SEAT\\SEAT_inputs\\plugin-input\\DEMO structured\\boundary-condition\\boundary-conditions.csv\"\n",
    "latlon=True\n",
    "receptor_filename = r\"H:\\Projects\\C1308_SEAT\\SEAT_inputs\\plugin-input\\DEMO structured\\receptor\\grainsize_receptor.tif\"\n",
    "value_selection='MAX'"
   ]
  },
  {
   "cell_type": "code",
   "execution_count": 89,
   "metadata": {},
   "outputs": [
    {
     "name": "stderr",
     "output_type": "stream",
     "text": [
      "C:\\Users\\local_tnelson76\\Temp\\ipykernel_30644\\1923583322.py:96: RuntimeWarning: All-NaN axis encountered\n",
      "  tau_dev = np.nanmax(tau_dev, axis=1, keepdims=True) #max over time\n",
      "C:\\Users\\local_tnelson76\\Temp\\ipykernel_30644\\1923583322.py:97: RuntimeWarning: All-NaN axis encountered\n",
      "  tau_nodev = np.nanmax(tau_nodev, axis=1, keepdims=True) #max over time\n"
     ]
    }
   ],
   "source": [
    "files_nodev = [i for i in os.listdir(fpath_nodev) if i.endswith('.nc')]\n",
    "files_dev = [i for i in os.listdir(fpath_dev) if i.endswith('.nc')]\n",
    "\n",
    "# Load and sort files\n",
    "if len(files_nodev) == 1 & len(files_dev) == 1: \n",
    "    #asumes a concatonated files with shape\n",
    "    #[run_order, time, rows, cols]\n",
    "\n",
    "    file_dev_present = Dataset(os.path.join(fpath_dev, files_dev[0]))\n",
    "    gridtype, xvar, yvar, tauvar = check_grid_define_vars(file_dev_present)\n",
    "    # X-coordinate of cell center\n",
    "    xcor = file_dev_present.variables[xvar][:].data\n",
    "    # Y-coordinate of cell center\n",
    "    ycor = file_dev_present.variables[yvar][:].data\n",
    "    # TAUMAX\n",
    "    tau_dev = file_dev_present.variables[tauvar][:]\n",
    "    # close the device prsent file\n",
    "    file_dev_present.close()\n",
    "\n",
    "    file_dev_notpresent = Dataset(os.path.join(fpath_nodev, files_nodev[0]))\n",
    "    tau_nodev = file_dev_notpresent.variables[tauvar][:]\n",
    "    # close the device not present file\n",
    "    file_dev_notpresent.close()\n",
    "    \n",
    "    # if tau_dev.shape[0] != tau_nodev.shape[0]:\n",
    "    #     raise Exception(f\"Number of device runs ({tau_dev.shape[0]}) must be the same as no device runs ({tau_nodev.shape[0]}).\") \n",
    "\n",
    "elif len(files_nodev) == len(files_dev): #same number of files, file name must be formatted with either run number or return interval\n",
    "    #asumes each run is separate with the some_name_RunNum_map.nc, where run number comes at the last underscore before _map.nc\n",
    "    runorder_nodev = np.zeros((len(files_nodev)))\n",
    "    for ic, file in enumerate(files_nodev):\n",
    "        runorder_nodev[ic] = int(file.split('.')[0].split('_')[-2])\n",
    "    runorder_dev = np.zeros((len(files_dev)))\n",
    "    for ic, file in enumerate(files_dev):\n",
    "        runorder_dev[ic] = int(file.split('.')[0].split('_')[-2])\n",
    "\n",
    "    #ensure run oder for nodev matches dev files\n",
    "    if np.any(runorder_nodev != runorder_dev):\n",
    "        adjust_dev_order = []\n",
    "        for ri in runorder_nodev:\n",
    "            adjust_dev_order = np.append(adjust_dev_order, np.flatnonzero(runorder_dev == ri))\n",
    "        files_dev = [files_dev[int(i)] for i in adjust_dev_order]\n",
    "        runorder_dev = [runorder_dev[int(i)] for i in adjust_dev_order]\n",
    "    DF = pd.DataFrame({'files_nodev':files_nodev, \n",
    "                'run_order_nodev':runorder_nodev,\n",
    "                'files_dev':files_dev,\n",
    "                'run_order_dev':runorder_dev})\n",
    "    DF = DF.sort_values(by='run_order_dev')\n",
    "\n",
    "    first_run = True\n",
    "    ir = 0\n",
    "    for _, row in DF.iterrows():\n",
    "        file_dev_notpresent = Dataset(os.path.join(fpath_nodev, row.files_nodev))\n",
    "        file_dev_present = Dataset(os.path.join(fpath_dev, row.files_dev))\n",
    "\n",
    "        gridtype, xvar, yvar, tauvar = check_grid_define_vars(file_dev_present)\n",
    "\n",
    "        if first_run:\n",
    "            tmp = file_dev_notpresent.variables[tauvar][:].data\n",
    "            if gridtype=='structured':\n",
    "                tau_nodev = np.zeros((DF.shape[0], tmp.shape[0], tmp.shape[1], tmp.shape[2]))\n",
    "                tau_dev = np.zeros((DF.shape[0], tmp.shape[0], tmp.shape[1], tmp.shape[2]))\n",
    "            else:\n",
    "                tau_nodev = np.zeros((DF.shape[0], tmp.shape[0], tmp.shape[1]))\n",
    "                tau_dev = np.zeros((DF.shape[0], tmp.shape[0], tmp.shape[1]))\n",
    "            xcor = file_dev_notpresent.variables[xvar][:].data\n",
    "            ycor = file_dev_notpresent.variables[yvar][:].data            \n",
    "            first_run = False\n",
    "        tau_nodev[ir, :] = file_dev_notpresent.variables[tauvar][:].data\n",
    "        tau_dev[ir, :] = file_dev_present.variables[tauvar][:].data\n",
    "        \n",
    "        file_dev_notpresent.close()\n",
    "        file_dev_present.close()\n",
    "        ir += 1\n",
    "else:\n",
    "    raise Exception(f\"Number of device runs ({len(files_dev)}) must be the same as no device runs ({len(files_nodev)}).\") \n",
    "# Finished loading and sorting files\n",
    "\n",
    "if not(probabilities_file == \"\"):\n",
    "    # Load BC file with probabilities and find appropriate probability\n",
    "    BC_probability = pd.read_csv(probabilities_file, delimiter=\",\")\n",
    "    BC_probability['run order'] = BC_probability['run order']-1\n",
    "    BC_probability = BC_probability.sort_values(by='run order')\n",
    "    BC_probability[\"probability\"]= BC_probability[\"% of yr\"].values/100\n",
    "    # BC_probability\n",
    "    if 'Exclude' in BC_probability.columns:\n",
    "        BC_probability = BC_probability[~((BC_probability['Exclude'] == 'x') | (BC_probability['Exclude'] == 'X'))]\n",
    "else: #assume run_order in file name is return interval\n",
    "    BC_probability = pd.DataFrame()\n",
    "    BC_probability['run order'] = np.arange(0,tau_dev.shape[0]) #ignor number and start sequentially from zero\n",
    "    BC_probability[\"probability\"] = 1/DF.run_order_dev.to_numpy() #assumes run order in name is the return interval\n",
    "\n",
    "# Calculate Stressor and Receptors\n",
    "# data_dev_max = np.amax(data_dev, axis=1, keepdims=True) #look at maximum shear stress difference change\n",
    "if value_selection == 'MAX':\n",
    "    tau_dev = np.nanmax(tau_dev, axis=1, keepdims=True) #max over time\n",
    "    tau_nodev = np.nanmax(tau_nodev, axis=1, keepdims=True) #max over time\n",
    "elif value_selection == 'MEAN':\n",
    "    tau_dev = np.nanmean(tau_dev, axis=1, keepdims=True) #max over time\n",
    "    tau_nodev = np.nanmean(tau_nodev, axis=1, keepdims=True) #max over time\n",
    "elif value_selection == 'LAST':\n",
    "    tau_dev = tau_dev[:, -2:-1, :] #max over time\n",
    "    tau_nodev = tau_nodev[:, -2:-1, :] #max over time\n",
    "else:\n",
    "    tau_dev = np.nanmax(tau_dev, axis=1, keepdims=True) #max over time\n",
    "    tau_nodev = np.nanmax(tau_nodev, axis=1, keepdims=True) #max over time\n",
    "\n",
    "\n",
    "#initialize arrays\n",
    "if gridtype == 'structured':\n",
    "    tau_combined_nodev = np.zeros(np.shape(tau_nodev[0, 0, :, :]))\n",
    "    tau_combined_dev = np.zeros(np.shape(tau_dev[0, 0, :, :]))\n",
    "else:\n",
    "    tau_combined_nodev = np.zeros(np.shape(tau_nodev)[-1])\n",
    "    tau_combined_dev = np.zeros(np.shape(tau_dev)[-1])\n",
    "\n",
    "for run_number, prob in zip(BC_probability['run order'].values,\n",
    "                            BC_probability[\"probability\"].values):\n",
    "        \n",
    "    tau_combined_nodev = tau_combined_nodev + prob * tau_nodev[run_number,-1,:] \n",
    "    tau_combined_dev = tau_combined_dev + prob * tau_dev[run_number,-1,:] \n",
    "\n",
    "tau_diff = tau_combined_dev - tau_combined_nodev\n",
    "taucrit, receptor_array = calc_receptor_taucrit(receptor_filename, xcor, ycor, latlon=latlon)\n",
    "mobility_parameter_nodev = tau_combined_nodev / taucrit\n",
    "mobility_parameter_nodev = np.where(receptor_array==0, 0, mobility_parameter_nodev)\n",
    "mobility_parameter_dev = tau_combined_dev / taucrit\n",
    "mobility_parameter_dev = np.where(receptor_array==0, 0, mobility_parameter_dev)\n",
    "# Calculate risk metrics over all runs\n",
    "\n",
    "mobility_parameter_diff = mobility_parameter_dev - mobility_parameter_nodev\n",
    "\n",
    "\n",
    "if gridtype=='structured':\n",
    "    mobility_classification = classify_mobility(mobility_parameter_dev, mobility_parameter_nodev)\n",
    "    dx = np.nanmean(np.diff(xcor[:,0]))\n",
    "    dy = np.nanmean(np.diff(ycor[0,:]))\n",
    "    rx = xcor\n",
    "    ry = ycor\n",
    "    DF_classified = calculate_receptor_change_percentage(receptor_array, mobility_classification)\n",
    "    listOfFiles = [tau_diff, mobility_parameter_nodev, mobility_parameter_dev, mobility_parameter_diff, mobility_classification, receptor_array]\n",
    "else: # unstructured\n",
    "    dxdy = estimate_grid_spacing(xcor,ycor, nsamples=100)\n",
    "    dx = dxdy\n",
    "    dy = dxdy\n",
    "    rx, ry, tau_diff_struct = create_structured_array_from_unstructured(xcor, ycor, tau_diff, dxdy, flatness=0.2)\n",
    "    _, _, mobility_parameter_nodev_struct = create_structured_array_from_unstructured(xcor, ycor, mobility_parameter_nodev, dxdy, flatness=0.2)\n",
    "    _, _, mobility_parameter_dev_struct = create_structured_array_from_unstructured(xcor, ycor, mobility_parameter_dev, dxdy, flatness=0.2)\n",
    "    _, _, mobility_parameter_diff_struct = create_structured_array_from_unstructured(xcor, ycor, mobility_parameter_diff, dxdy, flatness=0.2)\n",
    "    _, _, receptor_array_struct = create_structured_array_from_unstructured(xcor, ycor, receptor_array, dxdy, flatness=0.2)\n",
    "    mobility_classification = classify_mobility(mobility_parameter_dev_struct, mobility_parameter_nodev_struct)\n",
    "    DF_classified = calculate_receptor_change_percentage(receptor_array_struct, mobility_classification)\n",
    "    listOfFiles = [tau_diff_struct, mobility_parameter_nodev_struct, mobility_parameter_dev_struct, mobility_parameter_diff_struct, mobility_classification]\n",
    "\n"
   ]
  },
  {
   "cell_type": "code",
   "execution_count": 90,
   "metadata": {},
   "outputs": [
    {
     "data": {
      "text/plain": [
       "masked_array(\n",
       "  data=[[ True, False, False, ..., False, False,  True],\n",
       "        [False, False, False, ..., False, False, False],\n",
       "        [False, False, False, ..., False, False, False],\n",
       "        ...,\n",
       "        [ True,  True,  True, ...,  True,  True,  True],\n",
       "        [ True,  True,  True, ...,  True,  True,  True],\n",
       "        [ True,  True,  True, ...,  True,  True,  True]],\n",
       "  mask=False,\n",
       "  fill_value=True)"
      ]
     },
     "execution_count": 90,
     "metadata": {},
     "output_type": "execute_result"
    }
   ],
   "source": [
    "tau_dev[run_number,-1,:]  == tau_nodev[run_number,-1,:] "
   ]
  },
  {
   "cell_type": "code",
   "execution_count": 91,
   "metadata": {},
   "outputs": [
    {
     "data": {
      "text/plain": [
       "False"
      ]
     },
     "execution_count": 91,
     "metadata": {},
     "output_type": "execute_result"
    }
   ],
   "source": [
    "np.all(tau_dev == tau_nodev)"
   ]
  },
  {
   "cell_type": "code",
   "execution_count": 92,
   "metadata": {},
   "outputs": [
    {
     "data": {
      "text/plain": [
       "0.4120633859420195"
      ]
     },
     "execution_count": 92,
     "metadata": {},
     "output_type": "execute_result"
    }
   ],
   "source": [
    "np.nanmax(np.abs(tau_diff_struct))"
   ]
  },
  {
   "cell_type": "code",
   "execution_count": 94,
   "metadata": {},
   "outputs": [
    {
     "data": {
      "text/plain": [
       "<matplotlib.collections.QuadMesh at 0x1f64a106b90>"
      ]
     },
     "execution_count": 94,
     "metadata": {},
     "output_type": "execute_result"
    },
    {
     "data": {
      "image/png": "[encoded data removed]",
      "text/plain": [
       "<Figure size 640x480 with 1 Axes>"
      ]
     },
     "metadata": {},
     "output_type": "display_data"
    }
   ],
   "source": [
    "import matplotlib.pyplot as plt\n",
    "fig,ax = plt.subplots()\n",
    "ax.pcolormesh(rx,ry, tau_diff, vmin=-0.4, vmax=0.4, cmap='bwr')"
   ]
  },
  {
   "cell_type": "code",
   "execution_count": 93,
   "metadata": {},
   "outputs": [
    {
     "ename": "TypeError",
     "evalue": "Dimensions of C (408, 397) are incompatible with X (192) and/or Y (282); see help(pcolormesh)",
     "output_type": "error",
     "traceback": [
      "\u001b[1;31m---------------------------------------------------------------------------\u001b[0m",
      "\u001b[1;31mTypeError\u001b[0m                                 Traceback (most recent call last)",
      "\u001b[1;32mUntitled-1.ipynb Cell 9\u001b[0m in \u001b[0;36m3\n\u001b[0;32m      <a href='vscode-notebook-cell:Untitled-1.ipynb?jupyter-notebook#X11sdW50aXRsZWQ%3D?line=0'>1</a>\u001b[0m \u001b[39mimport\u001b[39;00m \u001b[39mmatplotlib\u001b[39;00m\u001b[39m.\u001b[39;00m\u001b[39mpyplot\u001b[39;00m \u001b[39mas\u001b[39;00m \u001b[39mplt\u001b[39;00m\n\u001b[0;32m      <a href='vscode-notebook-cell:Untitled-1.ipynb?jupyter-notebook#X11sdW50aXRsZWQ%3D?line=1'>2</a>\u001b[0m fig,ax \u001b[39m=\u001b[39m plt\u001b[39m.\u001b[39msubplots()\n\u001b[1;32m----> <a href='vscode-notebook-cell:Untitled-1.ipynb?jupyter-notebook#X11sdW50aXRsZWQ%3D?line=2'>3</a>\u001b[0m ax\u001b[39m.\u001b[39;49mpcolormesh(rx,ry, tau_diff_struct, vmin\u001b[39m=\u001b[39;49m\u001b[39m-\u001b[39;49m\u001b[39m0.4\u001b[39;49m, vmax\u001b[39m=\u001b[39;49m\u001b[39m0.4\u001b[39;49m, cmap\u001b[39m=\u001b[39;49m\u001b[39m'\u001b[39;49m\u001b[39mbwr\u001b[39;49m\u001b[39m'\u001b[39;49m)\n",
      "File \u001b[1;32mc:\\Users\\tnelson76\\.conda\\envs\\C3507_SAM_HAB\\lib\\site-packages\\matplotlib\\__init__.py:1423\u001b[0m, in \u001b[0;36m_preprocess_data.<locals>.inner\u001b[1;34m(ax, data, *args, **kwargs)\u001b[0m\n\u001b[0;32m   1420\u001b[0m \u001b[39m@functools\u001b[39m\u001b[39m.\u001b[39mwraps(func)\n\u001b[0;32m   1421\u001b[0m \u001b[39mdef\u001b[39;00m \u001b[39minner\u001b[39m(ax, \u001b[39m*\u001b[39margs, data\u001b[39m=\u001b[39m\u001b[39mNone\u001b[39;00m, \u001b[39m*\u001b[39m\u001b[39m*\u001b[39mkwargs):\n\u001b[0;32m   1422\u001b[0m     \u001b[39mif\u001b[39;00m data \u001b[39mis\u001b[39;00m \u001b[39mNone\u001b[39;00m:\n\u001b[1;32m-> 1423\u001b[0m         \u001b[39mreturn\u001b[39;00m func(ax, \u001b[39m*\u001b[39m\u001b[39mmap\u001b[39m(sanitize_sequence, args), \u001b[39m*\u001b[39m\u001b[39m*\u001b[39mkwargs)\n\u001b[0;32m   1425\u001b[0m     bound \u001b[39m=\u001b[39m new_sig\u001b[39m.\u001b[39mbind(ax, \u001b[39m*\u001b[39margs, \u001b[39m*\u001b[39m\u001b[39m*\u001b[39mkwargs)\n\u001b[0;32m   1426\u001b[0m     auto_label \u001b[39m=\u001b[39m (bound\u001b[39m.\u001b[39marguments\u001b[39m.\u001b[39mget(label_namer)\n\u001b[0;32m   1427\u001b[0m                   \u001b[39mor\u001b[39;00m bound\u001b[39m.\u001b[39mkwargs\u001b[39m.\u001b[39mget(label_namer))\n",
      "File \u001b[1;32mc:\\Users\\tnelson76\\.conda\\envs\\C3507_SAM_HAB\\lib\\site-packages\\matplotlib\\axes\\_axes.py:6133\u001b[0m, in \u001b[0;36mAxes.pcolormesh\u001b[1;34m(self, alpha, norm, cmap, vmin, vmax, shading, antialiased, *args, **kwargs)\u001b[0m\n\u001b[0;32m   6130\u001b[0m shading \u001b[39m=\u001b[39m shading\u001b[39m.\u001b[39mlower()\n\u001b[0;32m   6131\u001b[0m kwargs\u001b[39m.\u001b[39msetdefault(\u001b[39m'\u001b[39m\u001b[39medgecolors\u001b[39m\u001b[39m'\u001b[39m, \u001b[39m'\u001b[39m\u001b[39mnone\u001b[39m\u001b[39m'\u001b[39m)\n\u001b[1;32m-> 6133\u001b[0m X, Y, C, shading \u001b[39m=\u001b[39m \u001b[39mself\u001b[39;49m\u001b[39m.\u001b[39;49m_pcolorargs(\u001b[39m'\u001b[39;49m\u001b[39mpcolormesh\u001b[39;49m\u001b[39m'\u001b[39;49m, \u001b[39m*\u001b[39;49margs,\n\u001b[0;32m   6134\u001b[0m                                     shading\u001b[39m=\u001b[39;49mshading, kwargs\u001b[39m=\u001b[39;49mkwargs)\n\u001b[0;32m   6135\u001b[0m coords \u001b[39m=\u001b[39m np\u001b[39m.\u001b[39mstack([X, Y], axis\u001b[39m=\u001b[39m\u001b[39m-\u001b[39m\u001b[39m1\u001b[39m)\n\u001b[0;32m   6136\u001b[0m \u001b[39m# convert to one dimensional array\u001b[39;00m\n",
      "File \u001b[1;32mc:\\Users\\tnelson76\\.conda\\envs\\C3507_SAM_HAB\\lib\\site-packages\\matplotlib\\axes\\_axes.py:5661\u001b[0m, in \u001b[0;36mAxes._pcolorargs\u001b[1;34m(self, funcname, shading, *args, **kwargs)\u001b[0m\n\u001b[0;32m   5659\u001b[0m \u001b[39mif\u001b[39;00m shading \u001b[39m==\u001b[39m \u001b[39m'\u001b[39m\u001b[39mflat\u001b[39m\u001b[39m'\u001b[39m:\n\u001b[0;32m   5660\u001b[0m     \u001b[39mif\u001b[39;00m (Nx, Ny) \u001b[39m!=\u001b[39m (ncols \u001b[39m+\u001b[39m \u001b[39m1\u001b[39m, nrows \u001b[39m+\u001b[39m \u001b[39m1\u001b[39m):\n\u001b[1;32m-> 5661\u001b[0m         \u001b[39mraise\u001b[39;00m \u001b[39mTypeError\u001b[39;00m(\u001b[39m'\u001b[39m\u001b[39mDimensions of C \u001b[39m\u001b[39m%s\u001b[39;00m\u001b[39m are incompatible with\u001b[39m\u001b[39m'\u001b[39m\n\u001b[0;32m   5662\u001b[0m                         \u001b[39m'\u001b[39m\u001b[39m X (\u001b[39m\u001b[39m%d\u001b[39;00m\u001b[39m) and/or Y (\u001b[39m\u001b[39m%d\u001b[39;00m\u001b[39m); see help(\u001b[39m\u001b[39m%s\u001b[39;00m\u001b[39m)\u001b[39m\u001b[39m'\u001b[39m \u001b[39m%\u001b[39m (\n\u001b[0;32m   5663\u001b[0m                             C\u001b[39m.\u001b[39mshape, Nx, Ny, funcname))\n\u001b[0;32m   5664\u001b[0m \u001b[39melse\u001b[39;00m:    \u001b[39m# ['nearest', 'gouraud']:\u001b[39;00m\n\u001b[0;32m   5665\u001b[0m     \u001b[39mif\u001b[39;00m (Nx, Ny) \u001b[39m!=\u001b[39m (ncols, nrows):\n",
      "\u001b[1;31mTypeError\u001b[0m: Dimensions of C (408, 397) are incompatible with X (192) and/or Y (282); see help(pcolormesh)"
     ]
    },
    {
     "data": {
      "image/png": "[encoded data removed]",
      "text/plain": [
       "<Figure size 640x480 with 1 Axes>"
      ]
     },
     "metadata": {},
     "output_type": "display_data"
    }
   ],
   "source": [
    "import matplotlib.pyplot as plt\n",
    "fig,ax = plt.subplots()\n",
    "ax.pcolormesh(rx,ry, tau_diff_struct, vmin=-0.4, vmax=0.4, cmap='bwr')"
   ]
  },
  {
   "cell_type": "code",
   "execution_count": null,
   "metadata": {},
   "outputs": [
    {
     "data": {
      "text/plain": [
       "0.0"
      ]
     },
     "execution_count": 50,
     "metadata": {},
     "output_type": "execute_result"
    }
   ],
   "source": [
    "np.nanmedian(tau_diff_struct)"
   ]
  },
  {
   "cell_type": "code",
   "execution_count": null,
   "metadata": {},
   "outputs": [
    {
     "data": {
      "text/html": [
       "<div>\n",
       "<style scoped>\n",
       "    .dataframe tbody tr th:only-of-type {\n",
       "        vertical-align: middle;\n",
       "    }\n",
       "\n",
       "    .dataframe tbody tr th {\n",
       "        vertical-align: top;\n",
       "    }\n",
       "\n",
       "    .dataframe thead th {\n",
       "        text-align: right;\n",
       "    }\n",
       "</style>\n",
       "<table border=\"1\" class=\"dataframe\">\n",
       "  <thead>\n",
       "    <tr style=\"text-align: right;\">\n",
       "      <th></th>\n",
       "      <th>run order</th>\n",
       "      <th>probability</th>\n",
       "    </tr>\n",
       "  </thead>\n",
       "  <tbody>\n",
       "    <tr>\n",
       "      <th>0</th>\n",
       "      <td>0</td>\n",
       "      <td>1.00</td>\n",
       "    </tr>\n",
       "    <tr>\n",
       "      <th>1</th>\n",
       "      <td>1</td>\n",
       "      <td>0.20</td>\n",
       "    </tr>\n",
       "    <tr>\n",
       "      <th>2</th>\n",
       "      <td>2</td>\n",
       "      <td>0.10</td>\n",
       "    </tr>\n",
       "    <tr>\n",
       "      <th>3</th>\n",
       "      <td>3</td>\n",
       "      <td>0.04</td>\n",
       "    </tr>\n",
       "    <tr>\n",
       "      <th>4</th>\n",
       "      <td>4</td>\n",
       "      <td>0.02</td>\n",
       "    </tr>\n",
       "    <tr>\n",
       "      <th>5</th>\n",
       "      <td>5</td>\n",
       "      <td>0.01</td>\n",
       "    </tr>\n",
       "  </tbody>\n",
       "</table>\n",
       "</div>"
      ],
      "text/plain": [
       "   run order  probability\n",
       "0          0         1.00\n",
       "1          1         0.20\n",
       "2          2         0.10\n",
       "3          3         0.04\n",
       "4          4         0.02\n",
       "5          5         0.01"
      ]
     },
     "execution_count": 48,
     "metadata": {},
     "output_type": "execute_result"
    }
   ],
   "source": [
    "BC_probability"
   ]
  }
 ],
 "metadata": {
  "kernelspec": {
   "display_name": "C3507_SAM_HAB",
   "language": "python",
   "name": "python3"
  },
  "language_info": {
   "codemirror_mode": {
    "name": "ipython",
    "version": 3
   },
   "file_extension": ".py",
   "mimetype": "text/x-python",
   "name": "python",
   "nbconvert_exporter": "python",
   "pygments_lexer": "ipython3",
   "version": "3.10.6"
  },
  "orig_nbformat": 4
 },
 "nbformat": 4,
 "nbformat_minor": 2
}
