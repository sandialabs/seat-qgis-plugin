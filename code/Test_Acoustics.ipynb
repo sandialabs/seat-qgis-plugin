{
 "cells": [
  {
   "cell_type": "code",
   "execution_count": 1,
   "metadata": {},
   "outputs": [],
   "source": [
    "from acoustics_module import calc_stressor_paracousti\n",
    "import os\n",
    "import numpy as np"
   ]
  },
  {
   "cell_type": "code",
   "execution_count": 2,
   "metadata": {},
   "outputs": [],
   "source": [
    "dpresentfname = r\"H:\\Projects\\C1308_SEAT\\SEAT_inputs\\plugin-input\\Paracousti_files\\Device_Present\\PacWave_3DSPLs_Hw0.5.nc\"\n",
    "paracousti_folder = os.path.dirname(dpresentfname)\n",
    "paracousti_files = [i for i in os.listdir(paracousti_folder) if i.endswith('.nc')]\n",
    "receptor_file = 'H:\\Projects\\C1308_SEAT\\SEAT_inputs\\plugin-input\\Paracousti_files\\Receptor_File\\Acoustic_Receptor.csv'\n"
   ]
  },
  {
   "cell_type": "code",
   "execution_count": 3,
   "metadata": {},
   "outputs": [
    {
     "name": "stdout",
     "output_type": "stream",
     "text": [
      "0/14\n"
     ]
    },
    {
     "name": "stderr",
     "output_type": "stream",
     "text": [
      "  0%|          | 0/120 [00:00<?, ?it/s]\n"
     ]
    },
    {
     "ename": "NameError",
     "evalue": "name 'fs' is not defined",
     "output_type": "error",
     "traceback": [
      "\u001b[1;31m---------------------------------------------------------------------------\u001b[0m",
      "\u001b[1;31mNameError\u001b[0m                                 Traceback (most recent call last)",
      "\u001b[1;32mh:\\Projects\\C1308_SEAT\\Acoustics\\seat-qgis-plugin\\code\\Test_Acoustics.ipynb Cell 3\u001b[0m in \u001b[0;36m1\n\u001b[1;32m----> <a href='vscode-notebook-cell:/h%3A/Projects/C1308_SEAT/Acoustics/seat-qgis-plugin/code/Test_Acoustics.ipynb#W2sZmlsZQ%3D%3D?line=0'>1</a>\u001b[0m Metrics, Metrics_Depth_Average, Metrics_Depth_Max \u001b[39m=\u001b[39m calc_stressor_paracousti(paracousti_folder, \n\u001b[0;32m      <a href='vscode-notebook-cell:/h%3A/Projects/C1308_SEAT/Acoustics/seat-qgis-plugin/code/Test_Acoustics.ipynb#W2sZmlsZQ%3D%3D?line=1'>2</a>\u001b[0m                                                                              paracousti_files, \n\u001b[0;32m      <a href='vscode-notebook-cell:/h%3A/Projects/C1308_SEAT/Acoustics/seat-qgis-plugin/code/Test_Acoustics.ipynb#W2sZmlsZQ%3D%3D?line=2'>3</a>\u001b[0m                                                                              receptor_file)\n",
      "File \u001b[1;32mh:\\Projects\\C1308_SEAT\\Acoustics\\seat-qgis-plugin\\code\\acoustics_module.py:256\u001b[0m, in \u001b[0;36mcalc_stressor_paracousti\u001b[1;34m(paracousti_folder, paracousti_files, receptor_file)\u001b[0m\n\u001b[0;32m    254\u001b[0m \u001b[39mfor\u001b[39;00m ilon \u001b[39min\u001b[39;00m \u001b[39mrange\u001b[39m(\u001b[39mlen\u001b[39m(SPL_interp\u001b[39m.\u001b[39mlon)):\n\u001b[0;32m    255\u001b[0m     \u001b[39mfor\u001b[39;00m iz \u001b[39min\u001b[39;00m \u001b[39mrange\u001b[39m(\u001b[39mlen\u001b[39m(SPL_interp\u001b[39m.\u001b[39mz)):\n\u001b[1;32m--> 256\u001b[0m         metric \u001b[39m=\u001b[39m calc_all_metrics(f_og_db\u001b[39m=\u001b[39;49mSPL_interp\u001b[39m.\u001b[39;49misel(lat\u001b[39m=\u001b[39;49milat, lon\u001b[39m=\u001b[39;49milon, z\u001b[39m=\u001b[39;49miz), w_fxn\u001b[39m=\u001b[39;49mWFX[receptor\u001b[39m.\u001b[39;49mMarine_Group\u001b[39m.\u001b[39;49mto_numpy()\u001b[39m.\u001b[39;49mitem()])\n\u001b[0;32m    257\u001b[0m         \u001b[39mfor\u001b[39;00m key \u001b[39min\u001b[39;00m metric\u001b[39m.\u001b[39mkeys():\n\u001b[0;32m    258\u001b[0m             Metrics[key][ip, ilat,ilon,iz] \u001b[39m=\u001b[39m metric[key]\n",
      "File \u001b[1;32mh:\\Projects\\C1308_SEAT\\Acoustics\\seat-qgis-plugin\\code\\acoustics_module.py:194\u001b[0m, in \u001b[0;36mcalc_all_metrics\u001b[1;34m(f_og_db, w_fxn)\u001b[0m\n\u001b[0;32m    191\u001b[0m t_mod, dt \u001b[39m=\u001b[39m inverse_fft(f_mod\u001b[39m.\u001b[39mf, f_mod, \u001b[39m1\u001b[39m)\n\u001b[0;32m    192\u001b[0m t_mod_xr_w \u001b[39m=\u001b[39m xr\u001b[39m.\u001b[39mDataArray(t_mod, coords\u001b[39m=\u001b[39m{\u001b[39m'\u001b[39m\u001b[39mtime\u001b[39m\u001b[39m'\u001b[39m: np\u001b[39m.\u001b[39marange(\u001b[39m0\u001b[39m,\u001b[39m1\u001b[39m,dt)}) \n\u001b[1;32m--> 194\u001b[0m dt \u001b[39m=\u001b[39m \u001b[39m1\u001b[39m\u001b[39m/\u001b[39mfs \u001b[39m# time step, in s\u001b[39;00m\n\u001b[0;32m    195\u001b[0m metrics \u001b[39m=\u001b[39m {}\n\u001b[0;32m    196\u001b[0m metrics[\u001b[39m'\u001b[39m\u001b[39mSPL_rms_flat\u001b[39m\u001b[39m'\u001b[39m] \u001b[39m=\u001b[39m SPL_rms_dB(t_mod_xr, dt)\n",
      "\u001b[1;31mNameError\u001b[0m: name 'fs' is not defined"
     ]
    }
   ],
   "source": [
    "Metrics, Metrics_Depth_Average, Metrics_Depth_Max = calc_stressor_paracousti(paracousti_folder, \n",
    "                                                                             paracousti_files, \n",
    "                                                                             receptor_file)"
   ]
  },
  {
   "cell_type": "code",
   "execution_count": null,
   "metadata": {},
   "outputs": [],
   "source": [
    "# Metrics_Depth_Average = {k:[] for k in Metrics.keys()}\n",
    "# Metrics_Depth_Max = {k:[] for k in Metrics.keys()}\n",
    "# for key in Metrics.keys():\n",
    "#     Metrics_Depth_Average[key] = np.nanmean(Metrics[key], axis=3)\n",
    "#     Metrics_Depth_Max[key] = np.nanmax(Metrics[key], axis=3)"
   ]
  },
  {
   "cell_type": "code",
   "execution_count": null,
   "metadata": {},
   "outputs": [
    {
     "data": {
      "text/plain": [
       "(14, 120, 119)"
      ]
     },
     "execution_count": 11,
     "metadata": {},
     "output_type": "execute_result"
    }
   ],
   "source": [
    "Metrics_Depth_Max['SPL_rms_flat'].shape"
   ]
  },
  {
   "cell_type": "code",
   "execution_count": null,
   "metadata": {},
   "outputs": [
    {
     "data": {
      "text/plain": [
       "(14, 120, 119, 16)"
      ]
     },
     "execution_count": 12,
     "metadata": {},
     "output_type": "execute_result"
    }
   ],
   "source": [
    "Metrics['SPL_pk_weighted'].shape"
   ]
  }
 ],
 "metadata": {
  "kernelspec": {
   "display_name": ".venv",
   "language": "python",
   "name": "python3"
  },
  "language_info": {
   "codemirror_mode": {
    "name": "ipython",
    "version": 3
   },
   "file_extension": ".py",
   "mimetype": "text/x-python",
   "name": "python",
   "nbconvert_exporter": "python",
   "pygments_lexer": "ipython3",
   "version": "3.10.6"
  },
  "orig_nbformat": 4
 },
 "nbformat": 4,
 "nbformat_minor": 2
}
