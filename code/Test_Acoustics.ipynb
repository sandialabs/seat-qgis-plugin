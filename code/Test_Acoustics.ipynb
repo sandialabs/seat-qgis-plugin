{
 "cells": [
  {
   "cell_type": "code",
   "execution_count": 1,
   "metadata": {},
   "outputs": [],
   "source": [
    "from acoustics_module import calc_stressor_paracousti\n",
    "import os\n",
    "import numpy as np"
   ]
  },
  {
   "cell_type": "code",
   "execution_count": 2,
   "metadata": {},
   "outputs": [],
   "source": [
    "dpresentfname = r\"H:\\Projects\\C1308_SEAT\\SEAT_inputs\\plugin-input\\Paracousti_files\\Device_Present\\PacWave_3DSPLs_Hw0.5.nc\"\n",
    "paracousti_folder = os.path.dirname(dpresentfname)\n",
    "paracousti_files = [i for i in os.listdir(paracousti_folder) if i.endswith('.nc')]\n",
    "receptor_file = 'H:\\Projects\\C1308_SEAT\\SEAT_inputs\\plugin-input\\Paracousti_files\\Receptor_File\\Acoustic_Receptor.csv'\n"
   ]
  },
  {
   "cell_type": "code",
   "execution_count": 3,
   "metadata": {},
   "outputs": [
    {
     "name": "stdout",
     "output_type": "stream",
     "text": [
      "0/14\n"
     ]
    },
    {
     "name": "stderr",
     "output_type": "stream",
     "text": [
      "100%|██████████| 120/120 [10:21<00:00,  5.18s/it]\n"
     ]
    },
    {
     "name": "stdout",
     "output_type": "stream",
     "text": [
      "1/14\n"
     ]
    },
    {
     "name": "stderr",
     "output_type": "stream",
     "text": [
      "100%|██████████| 120/120 [10:13<00:00,  5.11s/it]\n"
     ]
    },
    {
     "name": "stdout",
     "output_type": "stream",
     "text": [
      "2/14\n"
     ]
    },
    {
     "name": "stderr",
     "output_type": "stream",
     "text": [
      "100%|██████████| 120/120 [10:05<00:00,  5.04s/it]\n"
     ]
    },
    {
     "name": "stdout",
     "output_type": "stream",
     "text": [
      "3/14\n"
     ]
    },
    {
     "name": "stderr",
     "output_type": "stream",
     "text": [
      "100%|██████████| 120/120 [10:47<00:00,  5.40s/it]\n"
     ]
    },
    {
     "name": "stdout",
     "output_type": "stream",
     "text": [
      "4/14\n"
     ]
    },
    {
     "name": "stderr",
     "output_type": "stream",
     "text": [
      "100%|██████████| 120/120 [10:30<00:00,  5.25s/it]\n"
     ]
    },
    {
     "name": "stdout",
     "output_type": "stream",
     "text": [
      "5/14\n"
     ]
    },
    {
     "name": "stderr",
     "output_type": "stream",
     "text": [
      "100%|██████████| 120/120 [10:55<00:00,  5.46s/it]\n"
     ]
    },
    {
     "name": "stdout",
     "output_type": "stream",
     "text": [
      "6/14\n"
     ]
    },
    {
     "name": "stderr",
     "output_type": "stream",
     "text": [
      "100%|██████████| 120/120 [10:51<00:00,  5.43s/it]\n"
     ]
    },
    {
     "name": "stdout",
     "output_type": "stream",
     "text": [
      "7/14\n"
     ]
    },
    {
     "name": "stderr",
     "output_type": "stream",
     "text": [
      "100%|██████████| 120/120 [11:14<00:00,  5.62s/it]\n"
     ]
    },
    {
     "name": "stdout",
     "output_type": "stream",
     "text": [
      "8/14\n"
     ]
    },
    {
     "name": "stderr",
     "output_type": "stream",
     "text": [
      "100%|██████████| 120/120 [11:07<00:00,  5.56s/it]\n"
     ]
    },
    {
     "name": "stdout",
     "output_type": "stream",
     "text": [
      "9/14\n"
     ]
    },
    {
     "name": "stderr",
     "output_type": "stream",
     "text": [
      "100%|██████████| 120/120 [10:51<00:00,  5.43s/it]\n"
     ]
    },
    {
     "name": "stdout",
     "output_type": "stream",
     "text": [
      "10/14\n"
     ]
    },
    {
     "name": "stderr",
     "output_type": "stream",
     "text": [
      "100%|██████████| 120/120 [11:38<00:00,  5.82s/it]\n"
     ]
    },
    {
     "name": "stdout",
     "output_type": "stream",
     "text": [
      "11/14\n"
     ]
    },
    {
     "name": "stderr",
     "output_type": "stream",
     "text": [
      "100%|██████████| 120/120 [11:46<00:00,  5.89s/it]\n"
     ]
    },
    {
     "name": "stdout",
     "output_type": "stream",
     "text": [
      "12/14\n"
     ]
    },
    {
     "name": "stderr",
     "output_type": "stream",
     "text": [
      "100%|██████████| 120/120 [11:23<00:00,  5.70s/it]\n"
     ]
    },
    {
     "name": "stdout",
     "output_type": "stream",
     "text": [
      "13/14\n"
     ]
    },
    {
     "name": "stderr",
     "output_type": "stream",
     "text": [
      "100%|██████████| 120/120 [11:04<00:00,  5.53s/it]\n"
     ]
    }
   ],
   "source": [
    "Metrics, Metrics_Depth_Average, Metrics_Depth_Max = calc_stressor_paracousti(paracousti_folder, \n",
    "                                                                             paracousti_files, \n",
    "                                                                             receptor_file)"
   ]
  },
  {
   "cell_type": "code",
   "execution_count": 4,
   "metadata": {},
   "outputs": [],
   "source": [
    "# Metrics_Depth_Average = {k:[] for k in Metrics.keys()}\n",
    "# Metrics_Depth_Max = {k:[] for k in Metrics.keys()}\n",
    "# for key in Metrics.keys():\n",
    "#     Metrics_Depth_Average[key] = np.nanmean(Metrics[key], axis=3)\n",
    "#     Metrics_Depth_Max[key] = np.nanmax(Metrics[key], axis=3)"
   ]
  },
  {
   "cell_type": "code",
   "execution_count": 5,
   "metadata": {},
   "outputs": [
    {
     "data": {
      "text/plain": [
       "(14, 120, 119)"
      ]
     },
     "execution_count": 5,
     "metadata": {},
     "output_type": "execute_result"
    }
   ],
   "source": [
    "Metrics_Depth_Max['SPL_rms_flat'].shape"
   ]
  },
  {
   "cell_type": "code",
   "execution_count": 6,
   "metadata": {},
   "outputs": [
    {
     "data": {
      "text/plain": [
       "(14, 120, 119, 16)"
      ]
     },
     "execution_count": 6,
     "metadata": {},
     "output_type": "execute_result"
    }
   ],
   "source": [
    "Metrics['SPL_pk_weighted'].shape"
   ]
  },
  {
   "cell_type": "code",
   "execution_count": 18,
   "metadata": {},
   "outputs": [],
   "source": [
    "Metrics_Depth_Average['lon'] = Metrics['lon']\n",
    "Metrics_Depth_Average['lat'] = Metrics['lat']\n",
    "Metrics_Depth_Max['lon'] = Metrics['lon']\n",
    "Metrics_Depth_Max['lat'] = Metrics['lat']"
   ]
  },
  {
   "cell_type": "code",
   "execution_count": 19,
   "metadata": {},
   "outputs": [],
   "source": [
    "import pickle\n",
    "with open('H:\\Projects\\C1308_SEAT\\SEAT_inputs\\plugin-input\\DEMO paracousti\\weighted\\Metrics.pickle', 'wb') as handle:\n",
    "    pickle.dump(Metrics, handle, protocol=pickle.HIGHEST_PROTOCOL)\n",
    "with open('H:\\Projects\\C1308_SEAT\\SEAT_inputs\\plugin-input\\DEMO paracousti\\weighted\\Metrics_Depth_Average.pickle', 'wb') as handle:\n",
    "    pickle.dump(Metrics_Depth_Average, handle, protocol=pickle.HIGHEST_PROTOCOL)\n",
    "with open('H:\\Projects\\C1308_SEAT\\SEAT_inputs\\plugin-input\\DEMO paracousti\\weighted\\Metrics_Depth_Max.pickle', 'wb') as handle:\n",
    "    pickle.dump(Metrics_Depth_Max, handle, protocol=pickle.HIGHEST_PROTOCOL)"
   ]
  },
  {
   "cell_type": "code",
   "execution_count": 21,
   "metadata": {},
   "outputs": [
    {
     "data": {
      "text/plain": [
       "dict_keys(['SPL_rms_flat', 'SPL_rms_weighted', 'SPL_pk_flat', 'SPL_pk_weighted', 'SEL_flat', 'SEL_weighted', 'lat', 'lon'])"
      ]
     },
     "execution_count": 21,
     "metadata": {},
     "output_type": "execute_result"
    }
   ],
   "source": [
    "Metrics_Depth_Average.keys()"
   ]
  }
 ],
 "metadata": {
  "kernelspec": {
   "display_name": ".venv",
   "language": "python",
   "name": "python3"
  },
  "language_info": {
   "codemirror_mode": {
    "name": "ipython",
    "version": 3
   },
   "file_extension": ".py",
   "mimetype": "text/x-python",
   "name": "python",
   "nbconvert_exporter": "python",
   "pygments_lexer": "ipython3",
   "version": "3.10.6"
  },
  "orig_nbformat": 4
 },
 "nbformat": 4,
 "nbformat_minor": 2
}
