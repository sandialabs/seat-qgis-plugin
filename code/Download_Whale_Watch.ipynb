{
 "cells": [
  {
   "cell_type": "code",
   "execution_count": 49,
   "metadata": {},
   "outputs": [],
   "source": [
    "import pandas as pd\n",
    "import os\n",
    "import urllib.request\n",
    "base_url ='https://oceanview.pfeg.noaa.gov/WhaleWatch/predictions'\n",
    "whale_files = pd.read_csv(r\"H:\\Projects\\C1308_SEAT\\Acoustics\\whale_files.csv\")\n",
    "outpath = r\"H:\\Projects\\C1308_SEAT\\Acoustics\\Output\\Whales\"\n",
    "os.makedirs(outpath, exist_ok=True)\n"
   ]
  },
  {
   "cell_type": "code",
   "execution_count": 50,
   "metadata": {},
   "outputs": [],
   "source": [
    "for ix in range(whale_files.shape[0]):\n",
    "    file = whale_files.iloc[ix].values[0]\n",
    "    url = base_url + '/' + file\n",
    "    output = os.path.join(outpath, file)\n",
    "    urllib.request.urlretrieve(url, output)"
   ]
  },
  {
   "cell_type": "code",
   "execution_count": null,
   "metadata": {},
   "outputs": [],
   "source": []
  }
 ],
 "metadata": {
  "kernelspec": {
   "display_name": ".venv",
   "language": "python",
   "name": "python3"
  },
  "language_info": {
   "codemirror_mode": {
    "name": "ipython",
    "version": 3
   },
   "file_extension": ".py",
   "mimetype": "text/x-python",
   "name": "python",
   "nbconvert_exporter": "python",
   "pygments_lexer": "ipython3",
   "version": "3.10.6"
  },
  "orig_nbformat": 4
 },
 "nbformat": 4,
 "nbformat_minor": 2
}
