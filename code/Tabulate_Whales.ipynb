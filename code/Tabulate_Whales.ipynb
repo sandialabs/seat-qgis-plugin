{
 "cells": [
  {
   "cell_type": "code",
   "execution_count": 9,
   "metadata": {},
   "outputs": [],
   "source": [
    "import os\n",
    "import pandas as pd\n",
    "import numpy as np\n"
   ]
  },
  {
   "cell_type": "code",
   "execution_count": 2,
   "metadata": {},
   "outputs": [],
   "source": []
  },
  {
   "cell_type": "code",
   "execution_count": 43,
   "metadata": {},
   "outputs": [],
   "source": [
    "fpath = \"H:\\Projects\\C1308_SEAT\\Acoustics\\Output\\Whales\"\n",
    "files = [i for i in os.listdir(fpath) if i.endswith('.csv')]\n",
    "\n",
    "DF = pd.DataFrame()\n",
    "for file in files[2:]:\n",
    "    A = pd.read_csv(os.path.join(fpath, file))\n",
    "    longitude = A.longitude.to_numpy()\n",
    "    latitude = A.latitude.to_numpy()\n",
    "    year = A.year.values\n",
    "    month = A.month.values\n",
    "\n",
    "    if np.isin('percent', A.columns) & np.isin('density', A.columns):\n",
    "        percent = A.percent.to_numpy()\n",
    "        density = A.density.to_numpy()\n",
    "    elif np.isin('percent', A.columns):\n",
    "        percent = A.percent.to_numpy()\n",
    "        density = np.nan * np.ones(np.shape(percent))\n",
    "    elif np.isin('density', A.columns):\n",
    "        density = A.density.to_numpy()\n",
    "        percent = np.nan * np.ones(np.shape(density))\n",
    "    else:\n",
    "        percent = np.nan * np.ones(np.shape(month))\n",
    "        density = np.nan * np.ones(np.shape(month))\n",
    "\n",
    "    df = pd.DataFrame({'year': year,\n",
    "                    'month': month,\n",
    "                    'longitude':longitude,\n",
    "                    'latitude':latitude,\n",
    "                    'percent':percent,\n",
    "                    'density':density})\n",
    "\n",
    "    DF = pd.concat((DF, df))\n"
   ]
  },
  {
   "cell_type": "code",
   "execution_count": 63,
   "metadata": {},
   "outputs": [
    {
     "data": {
      "text/plain": [
       "year         2019.091954\n",
       "month           6.287356\n",
       "longitude     235.500000\n",
       "latitude       45.500000\n",
       "percent        38.251825\n",
       "density         0.567699\n",
       "dtype: float64"
      ]
     },
     "execution_count": 63,
     "metadata": {},
     "output_type": "execute_result"
    }
   ],
   "source": [
    "Subsection = DF[(DF.longitude==235.5) & (DF[\"latitude\"].between(45.25, 45.75, inclusive='both'))]\n",
    "Subsection.dropna().mean()"
   ]
  },
  {
   "cell_type": "code",
   "execution_count": 68,
   "metadata": {},
   "outputs": [
    {
     "data": {
      "text/html": [
       "<div>\n",
       "<style scoped>\n",
       "    .dataframe tbody tr th:only-of-type {\n",
       "        vertical-align: middle;\n",
       "    }\n",
       "\n",
       "    .dataframe tbody tr th {\n",
       "        vertical-align: top;\n",
       "    }\n",
       "\n",
       "    .dataframe thead th {\n",
       "        text-align: right;\n",
       "    }\n",
       "</style>\n",
       "<table border=\"1\" class=\"dataframe\">\n",
       "  <thead>\n",
       "    <tr style=\"text-align: right;\">\n",
       "      <th></th>\n",
       "      <th>years</th>\n",
       "      <th>months</th>\n",
       "      <th>percent</th>\n",
       "      <th>density</th>\n",
       "      <th>Marine_Group</th>\n",
       "    </tr>\n",
       "  </thead>\n",
       "  <tbody>\n",
       "    <tr>\n",
       "      <th>1</th>\n",
       "      <td>all</td>\n",
       "      <td>all</td>\n",
       "      <td>38.251825</td>\n",
       "      <td>0.567699</td>\n",
       "      <td>LF</td>\n",
       "    </tr>\n",
       "  </tbody>\n",
       "</table>\n",
       "</div>"
      ],
      "text/plain": [
       "0 years months    percent   density Marine_Group\n",
       "1   all    all  38.251825  0.567699           LF"
      ]
     },
     "execution_count": 68,
     "metadata": {},
     "output_type": "execute_result"
    }
   ],
   "source": [
    "Receptor = pd.read_csv('H:\\Projects\\C1308_SEAT\\SEAT_inputs\\plugin-input\\Paracousti_files\\Receptor_File\\Acoustic_Receptor.csv', index_col=0, header=None).T\n",
    "Receptor"
   ]
  },
  {
   "cell_type": "code",
   "execution_count": null,
   "metadata": {},
   "outputs": [],
   "source": []
  }
 ],
 "metadata": {
  "kernelspec": {
   "display_name": ".venv",
   "language": "python",
   "name": "python3"
  },
  "language_info": {
   "codemirror_mode": {
    "name": "ipython",
    "version": 3
   },
   "file_extension": ".py",
   "mimetype": "text/x-python",
   "name": "python",
   "nbconvert_exporter": "python",
   "pygments_lexer": "ipython3",
   "version": "3.10.6"
  },
  "orig_nbformat": 4
 },
 "nbformat": 4,
 "nbformat_minor": 2
}
